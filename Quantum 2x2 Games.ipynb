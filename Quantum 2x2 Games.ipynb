{
 "cells": [
  {
   "cell_type": "markdown",
   "metadata": {},
   "source": [
    "# Quantum 2x2 Games"
   ]
  },
  {
   "cell_type": "markdown",
   "metadata": {},
   "source": [
    "This notebook has been developed in order to formulate and analyze numerically the quantum version of two canonical Game Theory problems: Prisoners' Dilemma and (an anticipation to the) Battle of Sexes, studying all the possible quantum pure strategies available to the players."
   ]
  },
  {
   "cell_type": "code",
   "execution_count": 1,
   "metadata": {},
   "outputs": [],
   "source": [
    "import numpy as np\n",
    "import cmath\n",
    "from scipy import linalg\n",
    "import matplotlib.pyplot as plt\n",
    "import pandas as pd\n",
    "from mpl_toolkits.mplot3d import Axes3D\n",
    "from tqdm.notebook import tqdm\n",
    "import seaborn as sns\n",
    "import warnings\n",
    "import matplotlib.patches as mpatches\n",
    "\n",
    "\n",
    "pd.set_option('display.max_rows', 10)\n",
    "sns.set_style(\"ticks\")"
   ]
  },
  {
   "cell_type": "markdown",
   "metadata": {},
   "source": [
    "The action space of a quantum 2x2 game is SU(2), i.e. the Hilbert space of unitary, trace-preserving 2x2 matrices."
   ]
  },
  {
   "cell_type": "markdown",
   "metadata": {},
   "source": [
    "A generic matrix in SU(2) can be written as a function of 2 parameters: <br>\n",
    "\n",
    "$$\n",
    "\\hat{U}(\\theta,\\phi) = \\begin{pmatrix}\n",
    "e^{i\\phi}\\cos\\theta/2 & \\sin\\theta/2 \\\\ -\\sin\\theta/2 & e^{-i\\phi}\\cos\\theta/2\n",
    "\\end{pmatrix} \\quad \\theta\\in[0,\\pi], \\phi\\in[0,\\frac{\\pi}{2}] \n",
    "$$"
   ]
  },
  {
   "cell_type": "markdown",
   "metadata": {},
   "source": [
    "Also the original pure strategies for cooperating, C, and defecting, D, can be written in this way:\n",
    "\n",
    "$$\n",
    "\\hat{C} = \\hat{U}(0,0) = \\begin{pmatrix}1&0\\\\0&1\\end{pmatrix} \\qquad\n",
    "\\hat{D} = \\hat{U}(\\pi,0) = \\begin{pmatrix}0&1\\\\-1&0\\end{pmatrix}\n",
    "$$"
   ]
  },
  {
   "cell_type": "markdown",
   "metadata": {},
   "source": [
    "Usually, in these kind of games, each player has access to two pure strategies, C and D, and to the corresponding payoff bymatrix:\n",
    "\n",
    "$$\n",
    "\\begin{pmatrix}\n",
    "P_{CC,A},P_{CC,B} & P_{CD,A},P_{CD,B} \\\\ P_{DC,A},P_{DC,B} & P_{DD,A},P_{DD,B} \\\\\n",
    "\\end{pmatrix}\n",
    "$$"
   ]
  },
  {
   "cell_type": "markdown",
   "metadata": {},
   "source": [
    "The states of the (quantum) system are defined, as said, in SU(2), and are expressed as column vectors with four elements, written in the basis given by {|CC>, |CD>, |DC>, |DD>}, i.e. the computational basis (for example, |CC> corresponds to the vector (1,0,0,0), and so on)."
   ]
  },
  {
   "cell_type": "markdown",
   "metadata": {},
   "source": [
    "In order to construct an effective quantum game, we need to provide also some kind of entanglement between the various states, and this will be possible introducing an operator that depends on a \"entanglement measure\"\n",
    "\n",
    "$$\n",
    "\\hat{J} = \\exp\\left(-i\\gamma\\hat{D}\\otimes\\hat{D}/2\\right) \\qquad \\gamma\\in[0,\\frac{\\pi}{2}]\n",
    "$$"
   ]
  },
  {
   "cell_type": "markdown",
   "metadata": {},
   "source": [
    "such that the final state of the system, after the application of the actions chosen by the players, but before the effective measure of the qubits, will be given by:\n",
    "\n",
    "$$\n",
    "|\\psi_f> = \\hat{J}^\\dagger\\left(\\hat{U}_A\\otimes\\hat{U}_B\\right)\\hat{J}|CC>\n",
    "$$"
   ]
  },
  {
   "cell_type": "markdown",
   "metadata": {},
   "source": [
    "In the end, since the only way to find the best set of strategies to follow is to check the payoff, the formula to compute the expected utility for player i is:\n",
    "\n",
    "$$\n",
    "<i> = P_{CC,i}\\cdot|<CC|\\psi_f>|^2 + P_{CD,i}\\cdot|<CD|\\psi_f>|^2 + P_{DC,i}\\cdot|<DC|\\psi_f>|^2 + P_{DD,i}\\cdot|<DD|\\psi_f>|^2\n",
    "$$"
   ]
  },
  {
   "cell_type": "markdown",
   "metadata": {},
   "source": [
    "With the purpose of analyzing numerically the problem, we are going to write a class that contains all the necessary attributes and functions for a complete simulation."
   ]
  },
  {
   "cell_type": "code",
   "execution_count": 2,
   "metadata": {},
   "outputs": [],
   "source": [
    "class Quantum2x2Game:\n",
    "    \n",
    "    def __init__(self, payoff_matrix, gamma=0, grid_step=np.pi/10, accuracy=1E-2):\n",
    "        \"\"\" In the constructor we initialize:\n",
    "        * the bimatrix of the payoffs\n",
    "        * the two main quantum strategies of collaboration and defection in 2x2 games\n",
    "        * the entanglement measure of the game\n",
    "        * the default values for the grid of parameters, that will depend on the grid_step parameter\n",
    "        * the final grid of parameters\n",
    "        Note: the problem will be discretized, and so the thinner is the grid the more accurate will \n",
    "        be the final solution, but the cost is an increased computational time. \"\"\"\n",
    "        self.payoff_matrix = payoff_matrix\n",
    "        self.C = self.quantum_strategy(0, 0)         # Strategy of cooperation\n",
    "        self.D = self.quantum_strategy(np.pi, 0)     # Strategy of defection\n",
    "        self.gamma = gamma                           # Entanglement measure\n",
    "        \n",
    "        # Default values for the grid of parameters\n",
    "        self.thetaA = np.arange(0, np.pi+grid_step, grid_step)\n",
    "        self.phiA   = np.arange(0, np.pi/2+grid_step/2, grid_step/2)\n",
    "        self.thetaB = np.arange(0, np.pi+grid_step, grid_step)\n",
    "        self.phiB   = np.arange(0, np.pi/2+grid_step/2, grid_step/2)\n",
    "        self.grid = None\n",
    "        self.NE   = None\n",
    "        self.guaranteed_payoffs = {\"A\" : None, \"B\" : None}\n",
    "        self.accuracy = accuracy\n",
    "        return\n",
    "    \n",
    "    def update_parameters(self, theta=None, phi=None, player=None):\n",
    "        \"\"\" Redefine the default values for the grid of parameters; for example if you want to force a player\n",
    "        to select a certain subset of strategies. The parameters to this function has to be submitted as \n",
    "        lists. \"\"\"\n",
    "        if player == \"A\":\n",
    "            if theta is not None: self.thetaA = theta\n",
    "            if phi   is not None: self.phiA = phi\n",
    "        if player == \"B\":\n",
    "            if theta is not None: self.thetaB = theta\n",
    "            if phi is not None: self.phiB = phi\n",
    "        return\n",
    "        \n",
    "    def quantum_strategy(self, theta, phi):\n",
    "        \"\"\" This function returns a matrix in SU(2), corresponding to a quantum pure strategy, given the \n",
    "        two necessary parameters. \"\"\"\n",
    "        qs = np.zeros([2,2], dtype=complex)\n",
    "        qs[0,0] = cmath.exp(1j*phi)*np.cos(theta/2)\n",
    "        qs[0,1] = np.sin(theta/2)\n",
    "        qs[1,0] = -np.sin(theta/2)\n",
    "        qs[1,1] = cmath.exp(-1j*phi)*np.cos(theta/2)\n",
    "        return qs\n",
    "    \n",
    "    def compute_final_state( self, strategyA, strategyB ):\n",
    "        \"\"\" This function takes in input a couple of quantum strategies, so matrices in SU(2), and return\n",
    "        the density matrix of the final state of the system after their application. The parameter gamma\n",
    "        will reproduce the entanglement between the states of the two players via a proper operator J. \"\"\"\n",
    "        J = linalg.expm(-1j*self.gamma*np.kron(self.D,self.D)/2)      # Construct matrix J\n",
    "        J1 = J.conjugate().transpose()                                # J^+ is just J's adjoint\n",
    "        UAB = np.kron(strategyA, strategyB)                           # UA x UB is the kronecker product between \n",
    "                                                                      # the two quantum strategies\n",
    "        # Apply the operators one by one\n",
    "        psi_f = np.matmul(J,np.array([1,0,0,0]))\n",
    "        psi_f = np.matmul(UAB, psi_f)\n",
    "        psi_f = np.matmul(J1, psi_f)      \n",
    "        return psi_f\n",
    "    \n",
    "    def expected_payoffs( self, state ):\n",
    "        \"\"\" Given a state represented by a 2x2 density matrix, like the form returned by the function \n",
    "        compute_final_state(), it returns a list containing the expected payoffs calculated for both \n",
    "        players in that state. \"\"\"\n",
    "        payoffA, payoffB = 0, 0\n",
    "        for i in range(2):\n",
    "            for j in range(2):\n",
    "                payoffA += self.payoff_matrix['A'][i,j]*(abs(state[2*i+j])**2)\n",
    "                payoffB += self.payoff_matrix['B'][i,j]*(abs(state[2*i+j])**2)\n",
    "        return [payoffA, payoffB]\n",
    "    \n",
    "    def compute_payoff_grid( self ):\n",
    "        \"\"\" This function receive in input four vectors, representing our discretized grid of parameters\n",
    "        describing the strategies chosen by our players. The output is a Pandas DataFrame containing all the \n",
    "        possible combinations of such parameters, together with the final payoffs associated in each case. \"\"\" \n",
    "        if self.grid is not None:\n",
    "            return self.grid\n",
    "        \n",
    "        size = len(self.thetaA)*len(self.phiA)*len(self.thetaB)*len(self.phiB)\n",
    "        grid = np.zeros(shape=(size,6))\n",
    "        pbar = tqdm(total = size)\n",
    "        s = 0\n",
    "\n",
    "        for i in self.thetaA:\n",
    "            for j in self.phiA:\n",
    "                for k in self.thetaB:\n",
    "                    for l in self.phiB:\n",
    "                        sA = self.quantum_strategy(i, j)\n",
    "                        sB = self.quantum_strategy(k, l)\n",
    "                        fs = self.compute_final_state(sA, sB)  \n",
    "                        utility = self.expected_payoffs(fs)\n",
    "                        grid[s] = [i, j, k, l, utility[0], utility[1]]\n",
    "                        s += 1\n",
    "                        pbar.update(1)\n",
    "                        \n",
    "        # Construct a pandas DataFrame with the grid\n",
    "        df = pd.DataFrame(grid, columns=[\"thetaA\",\"phiA\",\"thetaB\",\"phiB\",\"utilityA\", \"utilityB\"])\n",
    "        self.grid = df\n",
    "        return df\n",
    "    \n",
    "    def Is_Best_Response( self, row, player ):\n",
    "        ''' Return true if strategy A/B is a best response to B/A '''\n",
    "        if player == \"A\": opponent = \"B\"\n",
    "        elif player == \"B\": opponent = \"A\"        \n",
    "    \n",
    "        util_p = \"utility\" + player\n",
    "        th_o = \"theta\" + opponent\n",
    "        ph_o = \"phi\" + opponent\n",
    "        max_util_p = self.grid[(self.grid[th_o]==row[th_o]) & (self.grid[ph_o]==row[ph_o])].max()[util_p]\n",
    "        \n",
    "        # Return True if strategy of player is a best response to the strategy of the opponent (accuracy = 1E-2)\n",
    "        if abs(row[util_p] - max_util_p)<self.accuracy: return True\n",
    "        else: return False\n",
    "        \n",
    "    def compute_Nash_Equilibrium( self ):\n",
    "        \"\"\" This function takes the grid of parameters, compute it eventually, and add two columns, that\n",
    "        basically tell if the startegy of players A and B in each row, are a best response one of the other. \n",
    "        Then, since the Nash equilibria are by definition, pair of strategies that are mutual best responses,\n",
    "        a subset of rows, satisfying this condition, is extracted and returned. \"\"\"\n",
    "        if self.NE is not None: return self.NE\n",
    "        \n",
    "        # Construct the payoff grid\n",
    "        if self.grid is None: \n",
    "            print(\"Constructing the complete grid of payoffs...\")\n",
    "            self.compute_payoff_grid()\n",
    "            \n",
    "        # Initialize two new empty columns\n",
    "        self.grid[\"Best_responses_A\"] = None\n",
    "        self.grid[\"Best_responses_B\"] = None\n",
    "        \n",
    "        # Collect all the best responses of player A to any strategy of B and viceversa\n",
    "        print(\"Computing the best responses for the players...\")\n",
    "        for index, row in tqdm(self.grid.iterrows(),total=len(self.grid)):\n",
    "            self.grid.loc[index, \"Best_responses_A\"] = self.Is_Best_Response(row, \"A\")\n",
    "            self.grid.loc[index, \"Best_responses_B\"] = self.Is_Best_Response(row, \"B\")\n",
    "        \n",
    "        # The joint strategies that are NE are simoultanoeus best responses\n",
    "        self.NE = self.grid[self.grid[\"Best_responses_A\"] & self.grid[\"Best_responses_B\"]]\n",
    "        \n",
    "        return self.NE\n",
    "    \n",
    "    def Is_Pareto_Optimal( self, joint_strategy_idx ):\n",
    "        \"\"\" This function checks if a strategy, given its position in the grid, is Pareto Optimal, i.e. if\n",
    "        there is no other strategy that could increase the payoffs for both players. \"\"\"\n",
    "        util_A = self.grid.loc[joint_strategy_idx, \"utilityA\"]\n",
    "        util_B = self.grid.loc[joint_strategy_idx, \"utilityB\"]\n",
    "        \n",
    "        pareto_opt = self.grid[(self.grid[\"utilityA\"]>util_A) & (self.grid[\"utilityB\"]>util_B)]\n",
    "    \n",
    "        if pareto_opt.empty: \n",
    "            print(\"The strategy is Pareto optimal!\")\n",
    "            return \n",
    "        else:\n",
    "            print(\"The strategy is not Pareto optimal! \")\n",
    "            print(\"Better alternatives:\")\n",
    "            display(pareto_opt)\n",
    "        return \n",
    "    \n",
    "    def compute_guaranteed_payoffs( self, player ):\n",
    "        \"\"\" This function compute the minima guaranteed payoffs for one of the player, i.e. the minima utility\n",
    "        value over all the possibilities, for all the possible strategies of the opponent. \"\"\"\n",
    "        if self.guaranteed_payoffs[player] is not None: return self.guaranteed_payoffs[player]\n",
    "        if self.grid is None: self.compute_payoff_grid()\n",
    "        \n",
    "        s = 0\n",
    "        if player == \"A\":\n",
    "            theta = self.thetaA\n",
    "            phi = self.phiA\n",
    "        elif player == \"B\":\n",
    "            theta = self.thetaB\n",
    "            phi = self.phiB\n",
    "        \n",
    "        pbar = tqdm(total = len(theta)*len(phi))\n",
    "        min_utils = np.zeros(shape=(len(theta)*len(phi), 3))\n",
    "        for t in theta:\n",
    "                for p in phi:\n",
    "                    # Take the minimum payoff achievable if player A/B plays U(t, p)\n",
    "                    min_u = self.grid[(self.grid[\"theta\"+player]==t) & \n",
    "                                       (self.grid[\"phi\"+player]==p)].min()[\"utility\"+player]\n",
    "                    min_utils[s] = [t, p, min_u]\n",
    "                    s+=1\n",
    "                    pbar.update(1)\n",
    "        \n",
    "        self.guaranteed_payoffs[player] = pd.DataFrame(min_utils, columns=(\"theta\", \"phi\", \"utility\"))\n",
    "        \n",
    "        return self.guaranteed_payoffs[player]            "
   ]
  },
  {
   "cell_type": "markdown",
   "metadata": {},
   "source": [
    "Just to check the correctness of our code, we can rely on the fact that selecting $\\gamma=0$ we should obtain the original classical game! <br>\n",
    "So, if for example, we ask the two players to choose the joint strategy {DC} (with a dummy payoff matrix), then as final state we should get |DC> in the computational basis, that is (0,0,1,0)."
   ]
  },
  {
   "cell_type": "code",
   "execution_count": 3,
   "metadata": {},
   "outputs": [
    {
     "data": {
      "text/plain": [
       "array([ 0,  0, -1,  0])"
      ]
     },
     "execution_count": 3,
     "metadata": {},
     "output_type": "execute_result"
    }
   ],
   "source": [
    "warnings.filterwarnings('ignore')\n",
    "dummy_payoffs = {'A' : np.array([[3,0],[5,1]]), 'B' : np.array([[3,5],[0,1]]) }\n",
    "dummy_game = Quantum2x2Game( payoff_matrix=dummy_payoffs )\n",
    "dummy_game.compute_final_state( strategyA=dummy_game.D, strategyB=dummy_game.C ).astype(int)"
   ]
  },
  {
   "cell_type": "markdown",
   "metadata": {},
   "source": [
    "Note: the -  sign in the coefficient is irrelevant because what matters is its square module, i.e. $|-1|^2$, that represents the probability of finding the system in the state CD."
   ]
  },
  {
   "cell_type": "markdown",
   "metadata": {},
   "source": [
    "So everything seems working fine!"
   ]
  },
  {
   "cell_type": "markdown",
   "metadata": {},
   "source": [
    "Regarding the possibility of considering quantum mixed strategies, the application appears quite challenging: in the classical case a mixed strategy was a convex combination of pure strategies, so in a 2x2 game was something like $p\\hat{A}+(1-p)\\hat{B}$. But in a quantum world, the space of pure strategies is continuous, so, in order to properly build a mixed strategy, one need to consider a probability distribution, instead of just a parameter $p$, as:\n",
    "$$\n",
    "\\int\\hat{U}(\\theta,\\phi)p(\\theta,\\phi)d\\theta d\\phi\n",
    "$$"
   ]
  },
  {
   "cell_type": "markdown",
   "metadata": {},
   "source": [
    "But the number of probability distributions that we can construct over the space spanned by the parameters ($\\theta,\\phi$) is basically infinite."
   ]
  },
  {
   "cell_type": "markdown",
   "metadata": {},
   "source": [
    "For this reason, in the sequent analysis we will check only pure strategies, and the consequent equilibria."
   ]
  },
  {
   "cell_type": "markdown",
   "metadata": {},
   "source": [
    "# Quantum Prisoners' Dilemma"
   ]
  },
  {
   "cell_type": "markdown",
   "metadata": {},
   "source": [
    "The first problem that we are going to simulate as a quantum system is the traditional Prisoners' Dilemma."
   ]
  },
  {
   "cell_type": "code",
   "execution_count": 4,
   "metadata": {},
   "outputs": [],
   "source": [
    "# Specify the payoff matrix\n",
    "payoff_matrix_pd = {'A' : np.array([[3,0],[5,1]]), 'B' : np.array([[3,5],[0,1]]) }"
   ]
  },
  {
   "cell_type": "markdown",
   "metadata": {},
   "source": [
    "It may be interesting, now, to analyze the different payoffs of player A in particular configurations. Then the game, at least for the moment, is symmetric, and so we are allowed to draw the same conclusions also for player B."
   ]
  },
  {
   "cell_type": "markdown",
   "metadata": {},
   "source": [
    "#### Separable case: $\\gamma=0$"
   ]
  },
  {
   "cell_type": "code",
   "execution_count": 5,
   "metadata": {},
   "outputs": [],
   "source": [
    "# Construct the game\n",
    "PrisonersDilemma_g0 = Quantum2x2Game( payoff_matrix=payoff_matrix_pd, gamma=0 )"
   ]
  },
  {
   "cell_type": "markdown",
   "metadata": {},
   "source": [
    "The dimensionality of the problem is 5, and so is not so easy to plot a \"utility function\" directly. So, in order to find the maximum values we proceed numerically, showing only the most significant plots."
   ]
  },
  {
   "cell_type": "markdown",
   "metadata": {},
   "source": [
    "The best way to find numerically the Nash Equilibrium of the game is applying the definition, and looking for the joint strategy, i.e. a set $\\{\\theta_A, \\phi_A, \\theta_B, \\phi_B\\}$ that is a best response for both players to any other possible choice of the opponent. For this reason, in the class we have an apposite function."
   ]
  },
  {
   "cell_type": "code",
   "execution_count": 6,
   "metadata": {
    "scrolled": true
   },
   "outputs": [
    {
     "name": "stdout",
     "output_type": "stream",
     "text": [
      "Constructing the complete grid of payoffs...\n"
     ]
    },
    {
     "data": {
      "application/vnd.jupyter.widget-view+json": {
       "model_id": "701fed82db4247c5b3c96ec8030d5a7b",
       "version_major": 2,
       "version_minor": 0
      },
      "text/plain": [
       "  0%|          | 0/14641 [00:00<?, ?it/s]"
      ]
     },
     "metadata": {},
     "output_type": "display_data"
    },
    {
     "name": "stdout",
     "output_type": "stream",
     "text": [
      "Computing the best responses for the players...\n"
     ]
    },
    {
     "data": {
      "application/vnd.jupyter.widget-view+json": {
       "model_id": "45ecd7683f544fbfbaff14f57476d8b4",
       "version_major": 2,
       "version_minor": 0
      },
      "text/plain": [
       "  0%|          | 0/14641 [00:00<?, ?it/s]"
      ]
     },
     "metadata": {},
     "output_type": "display_data"
    }
   ],
   "source": [
    "NE_qpd = PrisonersDilemma_g0.compute_Nash_Equilibrium()"
   ]
  },
  {
   "cell_type": "code",
   "execution_count": 7,
   "metadata": {},
   "outputs": [
    {
     "data": {
      "text/html": [
       "<div>\n",
       "<style scoped>\n",
       "    .dataframe tbody tr th:only-of-type {\n",
       "        vertical-align: middle;\n",
       "    }\n",
       "\n",
       "    .dataframe tbody tr th {\n",
       "        vertical-align: top;\n",
       "    }\n",
       "\n",
       "    .dataframe thead th {\n",
       "        text-align: right;\n",
       "    }\n",
       "</style>\n",
       "<table border=\"1\" class=\"dataframe\">\n",
       "  <thead>\n",
       "    <tr style=\"text-align: right;\">\n",
       "      <th></th>\n",
       "      <th>thetaA</th>\n",
       "      <th>phiA</th>\n",
       "      <th>thetaB</th>\n",
       "      <th>phiB</th>\n",
       "      <th>utilityA</th>\n",
       "      <th>utilityB</th>\n",
       "      <th>Best_responses_A</th>\n",
       "      <th>Best_responses_B</th>\n",
       "    </tr>\n",
       "  </thead>\n",
       "  <tbody>\n",
       "    <tr>\n",
       "      <th>13420</th>\n",
       "      <td>3.141593</td>\n",
       "      <td>0.000000</td>\n",
       "      <td>3.141593</td>\n",
       "      <td>0.000000</td>\n",
       "      <td>1.0</td>\n",
       "      <td>1.0</td>\n",
       "      <td>True</td>\n",
       "      <td>True</td>\n",
       "    </tr>\n",
       "    <tr>\n",
       "      <th>13421</th>\n",
       "      <td>3.141593</td>\n",
       "      <td>0.000000</td>\n",
       "      <td>3.141593</td>\n",
       "      <td>0.157080</td>\n",
       "      <td>1.0</td>\n",
       "      <td>1.0</td>\n",
       "      <td>True</td>\n",
       "      <td>True</td>\n",
       "    </tr>\n",
       "    <tr>\n",
       "      <th>13422</th>\n",
       "      <td>3.141593</td>\n",
       "      <td>0.000000</td>\n",
       "      <td>3.141593</td>\n",
       "      <td>0.314159</td>\n",
       "      <td>1.0</td>\n",
       "      <td>1.0</td>\n",
       "      <td>True</td>\n",
       "      <td>True</td>\n",
       "    </tr>\n",
       "    <tr>\n",
       "      <th>13423</th>\n",
       "      <td>3.141593</td>\n",
       "      <td>0.000000</td>\n",
       "      <td>3.141593</td>\n",
       "      <td>0.471239</td>\n",
       "      <td>1.0</td>\n",
       "      <td>1.0</td>\n",
       "      <td>True</td>\n",
       "      <td>True</td>\n",
       "    </tr>\n",
       "    <tr>\n",
       "      <th>13424</th>\n",
       "      <td>3.141593</td>\n",
       "      <td>0.000000</td>\n",
       "      <td>3.141593</td>\n",
       "      <td>0.628319</td>\n",
       "      <td>1.0</td>\n",
       "      <td>1.0</td>\n",
       "      <td>True</td>\n",
       "      <td>True</td>\n",
       "    </tr>\n",
       "    <tr>\n",
       "      <th>...</th>\n",
       "      <td>...</td>\n",
       "      <td>...</td>\n",
       "      <td>...</td>\n",
       "      <td>...</td>\n",
       "      <td>...</td>\n",
       "      <td>...</td>\n",
       "      <td>...</td>\n",
       "      <td>...</td>\n",
       "    </tr>\n",
       "    <tr>\n",
       "      <th>14636</th>\n",
       "      <td>3.141593</td>\n",
       "      <td>1.570796</td>\n",
       "      <td>3.141593</td>\n",
       "      <td>0.942478</td>\n",
       "      <td>1.0</td>\n",
       "      <td>1.0</td>\n",
       "      <td>True</td>\n",
       "      <td>True</td>\n",
       "    </tr>\n",
       "    <tr>\n",
       "      <th>14637</th>\n",
       "      <td>3.141593</td>\n",
       "      <td>1.570796</td>\n",
       "      <td>3.141593</td>\n",
       "      <td>1.099557</td>\n",
       "      <td>1.0</td>\n",
       "      <td>1.0</td>\n",
       "      <td>True</td>\n",
       "      <td>True</td>\n",
       "    </tr>\n",
       "    <tr>\n",
       "      <th>14638</th>\n",
       "      <td>3.141593</td>\n",
       "      <td>1.570796</td>\n",
       "      <td>3.141593</td>\n",
       "      <td>1.256637</td>\n",
       "      <td>1.0</td>\n",
       "      <td>1.0</td>\n",
       "      <td>True</td>\n",
       "      <td>True</td>\n",
       "    </tr>\n",
       "    <tr>\n",
       "      <th>14639</th>\n",
       "      <td>3.141593</td>\n",
       "      <td>1.570796</td>\n",
       "      <td>3.141593</td>\n",
       "      <td>1.413717</td>\n",
       "      <td>1.0</td>\n",
       "      <td>1.0</td>\n",
       "      <td>True</td>\n",
       "      <td>True</td>\n",
       "    </tr>\n",
       "    <tr>\n",
       "      <th>14640</th>\n",
       "      <td>3.141593</td>\n",
       "      <td>1.570796</td>\n",
       "      <td>3.141593</td>\n",
       "      <td>1.570796</td>\n",
       "      <td>1.0</td>\n",
       "      <td>1.0</td>\n",
       "      <td>True</td>\n",
       "      <td>True</td>\n",
       "    </tr>\n",
       "  </tbody>\n",
       "</table>\n",
       "<p>121 rows × 8 columns</p>\n",
       "</div>"
      ],
      "text/plain": [
       "         thetaA      phiA    thetaB      phiB  utilityA  utilityB  \\\n",
       "13420  3.141593  0.000000  3.141593  0.000000       1.0       1.0   \n",
       "13421  3.141593  0.000000  3.141593  0.157080       1.0       1.0   \n",
       "13422  3.141593  0.000000  3.141593  0.314159       1.0       1.0   \n",
       "13423  3.141593  0.000000  3.141593  0.471239       1.0       1.0   \n",
       "13424  3.141593  0.000000  3.141593  0.628319       1.0       1.0   \n",
       "...         ...       ...       ...       ...       ...       ...   \n",
       "14636  3.141593  1.570796  3.141593  0.942478       1.0       1.0   \n",
       "14637  3.141593  1.570796  3.141593  1.099557       1.0       1.0   \n",
       "14638  3.141593  1.570796  3.141593  1.256637       1.0       1.0   \n",
       "14639  3.141593  1.570796  3.141593  1.413717       1.0       1.0   \n",
       "14640  3.141593  1.570796  3.141593  1.570796       1.0       1.0   \n",
       "\n",
       "      Best_responses_A Best_responses_B  \n",
       "13420             True             True  \n",
       "13421             True             True  \n",
       "13422             True             True  \n",
       "13423             True             True  \n",
       "13424             True             True  \n",
       "...                ...              ...  \n",
       "14636             True             True  \n",
       "14637             True             True  \n",
       "14638             True             True  \n",
       "14639             True             True  \n",
       "14640             True             True  \n",
       "\n",
       "[121 rows x 8 columns]"
      ]
     },
     "metadata": {},
     "output_type": "display_data"
    }
   ],
   "source": [
    "display(NE_qpd)"
   ]
  },
  {
   "cell_type": "markdown",
   "metadata": {},
   "source": [
    "Now we can show all the joint strategies that are Nash equilibria for $\\gamma=0$."
   ]
  },
  {
   "cell_type": "markdown",
   "metadata": {},
   "source": [
    "Becuase of the limited numerical precision, is better now to look directly in the dataframe containing all the Nash equilibria, to avoid errors. <br>\n",
    "The first thing we can notice is the fact that the parameters $\\phi_A$ and $\\phi_B$ seems to be ininfluent on the final payoff: the reason is that since $\\gamma=0$, all the probabilities and the states of the two players are separable, and so all these complex phases vanishes when multiplying first by $\\hat{J}$ and then by $\\hat{J^\\dagger}$. Another point of view can be found looking at the values of $\\theta_A$ and $\\theta_B$, that are all equal to $\\pi$; then, remembering the form of the generic SU(2) strategy, all the contributes of $\\phi$ vanishes when setting $\\theta=\\pi$. <br>\n",
    "So, we are able to finally state that for $\\gamma=0$, all the nash equilibrium strategies are of the type $\\{\\hat{U}(\\pi,\\phi_A),\\hat{U}(\\pi,\\phi_B)\\}$ and the corresponding utility values are $[1,1]$. <br>\n",
    "Final thing to recall: $\\hat{U}(\\pi,\\phi)$ is nothing but the old pure strategy of defection $\\hat{D}$."
   ]
  },
  {
   "cell_type": "markdown",
   "metadata": {},
   "source": [
    "We can have further confirmations to this making additional analysis:"
   ]
  },
  {
   "cell_type": "markdown",
   "metadata": {},
   "source": [
    "* we can give a look at the payoff of each player as functions of the parameters $\\theta$ (since $\\phi$, as we have seen, has no importance at the equilibrium);"
   ]
  },
  {
   "cell_type": "code",
   "execution_count": 8,
   "metadata": {
    "scrolled": true
   },
   "outputs": [],
   "source": [
    "grid_gamma0 = PrisonersDilemma_g0.compute_payoff_grid()"
   ]
  },
  {
   "cell_type": "code",
   "execution_count": 9,
   "metadata": {},
   "outputs": [],
   "source": [
    "# Take the parameter used \n",
    "thetaA = PrisonersDilemma_g0.thetaA\n",
    "phiA   = PrisonersDilemma_g0.phiA\n",
    "thetaB = PrisonersDilemma_g0.thetaB\n",
    "phiB   = PrisonersDilemma_g0.phiB"
   ]
  },
  {
   "cell_type": "code",
   "execution_count": 10,
   "metadata": {},
   "outputs": [
    {
     "data": {
      "image/png": "[encoded data removed]",
      "text/plain": [
       "<Figure size 1080x360 with 4 Axes>"
      ]
     },
     "metadata": {},
     "output_type": "display_data"
    }
   ],
   "source": [
    "# Plot the results as a heatmap\n",
    "fig, ax = plt.subplots(1,2,figsize=(15,5))\n",
    "grid_gamma0_pivotA = grid_gamma0[(grid_gamma0[\"phiA\"]==0) & (grid_gamma0[\"phiB\"]==0)].pivot(\"thetaA\", \"thetaB\", \"utilityA\")\n",
    "grid_gamma0_pivotB = grid_gamma0[(grid_gamma0[\"phiA\"]==0) & (grid_gamma0[\"phiB\"]==0)].pivot(\"thetaA\", \"thetaB\", \"utilityB\")\n",
    "\n",
    "ticklabels = ['0'] + ['']*(len(thetaB)//2-1) + [r'$\\pi$/2'] + ['']*(len(thetaB)//2-1) + [r'$\\pi$']\n",
    "\n",
    "\n",
    "pAgamma0 = sns.heatmap(grid_gamma0_pivotA, cmap=\"coolwarm\", ax=ax[0])\n",
    "pAgamma0.set_title(r'Payoffs of player A ($\\gamma=0$)', fontsize=20)\n",
    "pAgamma0.set_ylabel(r'$\\theta_A$', fontsize = 20)\n",
    "pAgamma0.set_xlabel(r'$\\theta_B$', fontsize = 20)\n",
    "pAgamma0.set_xticklabels(ticklabels, size = 17, rotation=0)\n",
    "pAgamma0.set_yticklabels(ticklabels, size = 17)\n",
    "pAgamma0.plot(0.5, 0.5, \".\")\n",
    "pAgamma0.annotate(r'$\\{CC\\}$', xy=(0.5, 0.5), fontsize=20, xytext=(2,3),\n",
    "                  arrowprops=dict(arrowstyle=\"fancy\", color=\"0.3\", shrinkA=5, shrinkB=10, \n",
    "                                connectionstyle=\"angle3,angleA=90,angleB=0\"))\n",
    "pAgamma0.plot(10.5, 10.5, \".\")\n",
    "pAgamma0.annotate(r'$\\{DD\\}$', xy=(10.5, 10.5), fontsize=20, xytext=(7,8),\n",
    "                  arrowprops=dict(arrowstyle=\"fancy\", color=\"0.3\", shrinkA=5, shrinkB=10, \n",
    "                                connectionstyle=\"angle3,angleA=90,angleB=0\"))\n",
    "\n",
    "\n",
    "pBgamma0 = sns.heatmap(grid_gamma0_pivotB, cmap=\"coolwarm\", ax=ax[1]);\n",
    "pBgamma0.set_title(r'Payoffs of player B ($\\gamma=0$)', fontsize=20)\n",
    "pBgamma0.set_ylabel(r'$\\theta_A$', fontsize = 20)\n",
    "pBgamma0.set_xlabel(r'$\\theta_B$', fontsize = 20)\n",
    "pBgamma0.set_xticklabels(ticklabels, size = 17, rotation=0)\n",
    "pBgamma0.set_yticklabels(ticklabels, size = 17)\n",
    "pBgamma0.plot(0.5, 0.5, \".\")\n",
    "pBgamma0.annotate(r'$\\{CC\\}$', xy=(0.5, 0.5), fontsize=20, xytext=(2,3),\n",
    "                  arrowprops=dict(arrowstyle=\"fancy\", color=\"0.3\", shrinkA=5, shrinkB=10, \n",
    "                                connectionstyle=\"angle3,angleA=90,angleB=0\"))\n",
    "pBgamma0.plot(10.5, 10.5, \".\")\n",
    "pBgamma0.annotate(r'$\\{DD\\}$', xy=(10.5, 10.5), fontsize=20, xytext=(7,8),\n",
    "                  arrowprops=dict(arrowstyle=\"fancy\", color=\"0.3\", shrinkA=5, shrinkB=10, \n",
    "                                connectionstyle=\"angle3,angleA=90,angleB=0\"))\n",
    "\n",
    "ax[0].invert_yaxis()\n",
    "ax[1].invert_yaxis()\n",
    "\n",
    "plt.show()"
   ]
  },
  {
   "cell_type": "markdown",
   "metadata": {},
   "source": [
    "As expected, if one player goes $\\theta\\to 0$ and the other goes $\\theta\\to\\pi$ we are in the classical situations of joint strategies {CD} or {DC}, in which the utility is low for one and big for the other one, but this is not a NE. So for $\\gamma=0$ the game is basically the same as in the classic world (in some sense we can make a correspondence between quantum strategies with $\\theta=\\pi$ and classical mixed strategies). If we look at the plots above, the NE strategy is not pareto optimal, and so the \"dilemma\" still holds."
   ]
  },
  {
   "cell_type": "markdown",
   "metadata": {},
   "source": [
    "* or we can instead analyze the minima payoff guaranteed to player A for any of his strategies, and then extending the results to player B by symmetry."
   ]
  },
  {
   "cell_type": "code",
   "execution_count": 11,
   "metadata": {},
   "outputs": [
    {
     "data": {
      "application/vnd.jupyter.widget-view+json": {
       "model_id": "37db716563804156b3733eadafce4e92",
       "version_major": 2,
       "version_minor": 0
      },
      "text/plain": [
       "  0%|          | 0/121 [00:00<?, ?it/s]"
      ]
     },
     "metadata": {},
     "output_type": "display_data"
    }
   ],
   "source": [
    "min_payoffs_gamma0_A = PrisonersDilemma_g0.compute_guaranteed_payoffs(\"A\")"
   ]
  },
  {
   "cell_type": "code",
   "execution_count": 12,
   "metadata": {
    "scrolled": true
   },
   "outputs": [
    {
     "data": {
      "image/png": "[encoded data removed]",
      "text/plain": [
       "<Figure size 576x288 with 2 Axes>"
      ]
     },
     "metadata": {},
     "output_type": "display_data"
    }
   ],
   "source": [
    "# Plot the results as a heatmap\n",
    "fig = plt.figure(figsize=(8,4))\n",
    "min_payoffs_gamma0_A_pivot = min_payoffs_gamma0_A.pivot(\"theta\", \"phi\", \"utility\")\n",
    "\n",
    "xticklabels = ['0'] + ['']*(len(phiA)//2-1) + [r'$\\pi$/4'] + ['']*(len(phiA)//2-1) + [r'$\\pi/2$']\n",
    "yticklabels = ['0'] + ['']*(len(thetaA)//2-1) + [r'$\\pi$/2'] + ['']*(len(thetaA)//2-1) + [r'$\\pi$']\n",
    "\n",
    "minpAgamma0 = sns.heatmap(min_payoffs_gamma0_A_pivot, cmap=\"coolwarm\")\n",
    "\n",
    "minpAgamma0.set_xticklabels(xticklabels, size = 17, rotation=0)\n",
    "minpAgamma0.set_yticklabels(yticklabels, size = 17)\n",
    "minpAgamma0.set_title(r'Payoffs guaranteed to player A for a generic strategy ($\\gamma=0$)', fontsize=18, y=1.1)\n",
    "minpAgamma0.set_xlabel(r'$\\phi_A$', fontsize=20)\n",
    "minpAgamma0.set_ylabel(r'$\\theta_A$', fontsize=20)\n",
    "\n",
    "minpAgamma0.annotate(r'$C$', xy=(0.5,0.5), fontsize=20, xytext=(3,5.5),\n",
    "                  arrowprops=dict(arrowstyle=\"fancy\", color=\"0\", shrinkA=5, shrinkB=5,\n",
    "                                 connectionstyle=\"angle3,angleA=0,angleB=90\"))\n",
    "minpAgamma0.annotate(r'$D$', xy=(10.5,10.5), fontsize=20, xytext=(7,5.5),\n",
    "                  arrowprops=dict(arrowstyle=\"fancy\", color=\"0\", shrinkA=5, shrinkB=5,\n",
    "                                 connectionstyle=\"angle3,angleA=0,angleB=90\"))\n",
    "\n",
    "plt.gca().invert_yaxis()"
   ]
  },
  {
   "cell_type": "markdown",
   "metadata": {},
   "source": [
    "Again we get something that we expected: the minimum payoff guaranteed to player A is between 0 (strategy {CD}) and 1 (at the NE). And the same results, for symmetry, hold for player B."
   ]
  },
  {
   "cell_type": "markdown",
   "metadata": {},
   "source": [
    "Analogy with classical game:if A decides to play $\\hat{D}$ (for simplicity), his payoff is maximized regardless of the strategy chosen by player B. <br>\n",
    "And since, as we said, the game is symmetric, we have found an equilibrium, i.e. $\\hat{D}\\otimes\\hat{D}$, in dominant strategies."
   ]
  },
  {
   "cell_type": "markdown",
   "metadata": {},
   "source": [
    "Let's see if this NE, $\\{\\hat{D},\\hat{D}\\}$ is at least Pareto optimal:"
   ]
  },
  {
   "cell_type": "code",
   "execution_count": 13,
   "metadata": {
    "scrolled": false
   },
   "outputs": [
    {
     "name": "stdout",
     "output_type": "stream",
     "text": [
      "The strategy is not Pareto optimal! \n",
      "Better alternatives:\n"
     ]
    },
    {
     "data": {
      "text/html": [
       "<div>\n",
       "<style scoped>\n",
       "    .dataframe tbody tr th:only-of-type {\n",
       "        vertical-align: middle;\n",
       "    }\n",
       "\n",
       "    .dataframe tbody tr th {\n",
       "        vertical-align: top;\n",
       "    }\n",
       "\n",
       "    .dataframe thead th {\n",
       "        text-align: right;\n",
       "    }\n",
       "</style>\n",
       "<table border=\"1\" class=\"dataframe\">\n",
       "  <thead>\n",
       "    <tr style=\"text-align: right;\">\n",
       "      <th></th>\n",
       "      <th>thetaA</th>\n",
       "      <th>phiA</th>\n",
       "      <th>thetaB</th>\n",
       "      <th>phiB</th>\n",
       "      <th>utilityA</th>\n",
       "      <th>utilityB</th>\n",
       "      <th>Best_responses_A</th>\n",
       "      <th>Best_responses_B</th>\n",
       "    </tr>\n",
       "  </thead>\n",
       "  <tbody>\n",
       "    <tr>\n",
       "      <th>0</th>\n",
       "      <td>0.000000</td>\n",
       "      <td>0.000000</td>\n",
       "      <td>0.000000</td>\n",
       "      <td>0.000000</td>\n",
       "      <td>3.000000</td>\n",
       "      <td>3.000000</td>\n",
       "      <td>False</td>\n",
       "      <td>False</td>\n",
       "    </tr>\n",
       "    <tr>\n",
       "      <th>1</th>\n",
       "      <td>0.000000</td>\n",
       "      <td>0.000000</td>\n",
       "      <td>0.000000</td>\n",
       "      <td>0.157080</td>\n",
       "      <td>3.000000</td>\n",
       "      <td>3.000000</td>\n",
       "      <td>False</td>\n",
       "      <td>False</td>\n",
       "    </tr>\n",
       "    <tr>\n",
       "      <th>2</th>\n",
       "      <td>0.000000</td>\n",
       "      <td>0.000000</td>\n",
       "      <td>0.000000</td>\n",
       "      <td>0.314159</td>\n",
       "      <td>3.000000</td>\n",
       "      <td>3.000000</td>\n",
       "      <td>False</td>\n",
       "      <td>False</td>\n",
       "    </tr>\n",
       "    <tr>\n",
       "      <th>3</th>\n",
       "      <td>0.000000</td>\n",
       "      <td>0.000000</td>\n",
       "      <td>0.000000</td>\n",
       "      <td>0.471239</td>\n",
       "      <td>3.000000</td>\n",
       "      <td>3.000000</td>\n",
       "      <td>False</td>\n",
       "      <td>False</td>\n",
       "    </tr>\n",
       "    <tr>\n",
       "      <th>4</th>\n",
       "      <td>0.000000</td>\n",
       "      <td>0.000000</td>\n",
       "      <td>0.000000</td>\n",
       "      <td>0.628319</td>\n",
       "      <td>3.000000</td>\n",
       "      <td>3.000000</td>\n",
       "      <td>False</td>\n",
       "      <td>False</td>\n",
       "    </tr>\n",
       "    <tr>\n",
       "      <th>...</th>\n",
       "      <td>...</td>\n",
       "      <td>...</td>\n",
       "      <td>...</td>\n",
       "      <td>...</td>\n",
       "      <td>...</td>\n",
       "      <td>...</td>\n",
       "      <td>...</td>\n",
       "      <td>...</td>\n",
       "    </tr>\n",
       "    <tr>\n",
       "      <th>13294</th>\n",
       "      <td>2.827433</td>\n",
       "      <td>1.570796</td>\n",
       "      <td>2.827433</td>\n",
       "      <td>0.942478</td>\n",
       "      <td>1.072816</td>\n",
       "      <td>1.072816</td>\n",
       "      <td>False</td>\n",
       "      <td>False</td>\n",
       "    </tr>\n",
       "    <tr>\n",
       "      <th>13295</th>\n",
       "      <td>2.827433</td>\n",
       "      <td>1.570796</td>\n",
       "      <td>2.827433</td>\n",
       "      <td>1.099557</td>\n",
       "      <td>1.072816</td>\n",
       "      <td>1.072816</td>\n",
       "      <td>False</td>\n",
       "      <td>False</td>\n",
       "    </tr>\n",
       "    <tr>\n",
       "      <th>13296</th>\n",
       "      <td>2.827433</td>\n",
       "      <td>1.570796</td>\n",
       "      <td>2.827433</td>\n",
       "      <td>1.256637</td>\n",
       "      <td>1.072816</td>\n",
       "      <td>1.072816</td>\n",
       "      <td>False</td>\n",
       "      <td>False</td>\n",
       "    </tr>\n",
       "    <tr>\n",
       "      <th>13297</th>\n",
       "      <td>2.827433</td>\n",
       "      <td>1.570796</td>\n",
       "      <td>2.827433</td>\n",
       "      <td>1.413717</td>\n",
       "      <td>1.072816</td>\n",
       "      <td>1.072816</td>\n",
       "      <td>False</td>\n",
       "      <td>False</td>\n",
       "    </tr>\n",
       "    <tr>\n",
       "      <th>13298</th>\n",
       "      <td>2.827433</td>\n",
       "      <td>1.570796</td>\n",
       "      <td>2.827433</td>\n",
       "      <td>1.570796</td>\n",
       "      <td>1.072816</td>\n",
       "      <td>1.072816</td>\n",
       "      <td>False</td>\n",
       "      <td>False</td>\n",
       "    </tr>\n",
       "  </tbody>\n",
       "</table>\n",
       "<p>7744 rows × 8 columns</p>\n",
       "</div>"
      ],
      "text/plain": [
       "         thetaA      phiA    thetaB      phiB  utilityA  utilityB  \\\n",
       "0      0.000000  0.000000  0.000000  0.000000  3.000000  3.000000   \n",
       "1      0.000000  0.000000  0.000000  0.157080  3.000000  3.000000   \n",
       "2      0.000000  0.000000  0.000000  0.314159  3.000000  3.000000   \n",
       "3      0.000000  0.000000  0.000000  0.471239  3.000000  3.000000   \n",
       "4      0.000000  0.000000  0.000000  0.628319  3.000000  3.000000   \n",
       "...         ...       ...       ...       ...       ...       ...   \n",
       "13294  2.827433  1.570796  2.827433  0.942478  1.072816  1.072816   \n",
       "13295  2.827433  1.570796  2.827433  1.099557  1.072816  1.072816   \n",
       "13296  2.827433  1.570796  2.827433  1.256637  1.072816  1.072816   \n",
       "13297  2.827433  1.570796  2.827433  1.413717  1.072816  1.072816   \n",
       "13298  2.827433  1.570796  2.827433  1.570796  1.072816  1.072816   \n",
       "\n",
       "      Best_responses_A Best_responses_B  \n",
       "0                False            False  \n",
       "1                False            False  \n",
       "2                False            False  \n",
       "3                False            False  \n",
       "4                False            False  \n",
       "...                ...              ...  \n",
       "13294            False            False  \n",
       "13295            False            False  \n",
       "13296            False            False  \n",
       "13297            False            False  \n",
       "13298            False            False  \n",
       "\n",
       "[7744 rows x 8 columns]"
      ]
     },
     "metadata": {},
     "output_type": "display_data"
    }
   ],
   "source": [
    "# DD is the 13420th row in the grid\n",
    "PrisonersDilemma_g0.Is_Pareto_Optimal(13420)"
   ]
  },
  {
   "cell_type": "markdown",
   "metadata": {},
   "source": [
    "It isn't, as in the classical game: the only strategy that is Pareto optimal is the mutual cooperation, that is not NE."
   ]
  },
  {
   "cell_type": "markdown",
   "metadata": {},
   "source": [
    "#### Maximally entangled case: $\\gamma=\\pi/2$"
   ]
  },
  {
   "cell_type": "markdown",
   "metadata": {},
   "source": [
    "Then, using the same approach, we can analyze also the case in which the two players' states are maximally entangled. <br>\n",
    "Let's fix $\\gamma=\\pi/2$."
   ]
  },
  {
   "cell_type": "code",
   "execution_count": 14,
   "metadata": {},
   "outputs": [],
   "source": [
    "# Construct the game\n",
    "PrisonersDilemma_gmax = Quantum2x2Game( payoff_matrix=payoff_matrix_pd, gamma=np.pi/2 )"
   ]
  },
  {
   "cell_type": "code",
   "execution_count": 15,
   "metadata": {
    "scrolled": true
   },
   "outputs": [
    {
     "name": "stdout",
     "output_type": "stream",
     "text": [
      "Constructing the complete grid of payoffs...\n"
     ]
    },
    {
     "data": {
      "application/vnd.jupyter.widget-view+json": {
       "model_id": "578ea392ddee4cab84600d5577f1b723",
       "version_major": 2,
       "version_minor": 0
      },
      "text/plain": [
       "  0%|          | 0/14641 [00:00<?, ?it/s]"
      ]
     },
     "metadata": {},
     "output_type": "display_data"
    },
    {
     "name": "stdout",
     "output_type": "stream",
     "text": [
      "Computing the best responses for the players...\n"
     ]
    },
    {
     "data": {
      "application/vnd.jupyter.widget-view+json": {
       "model_id": "1856442bc3c74493b47bfff5f1e93132",
       "version_major": 2,
       "version_minor": 0
      },
      "text/plain": [
       "  0%|          | 0/14641 [00:00<?, ?it/s]"
      ]
     },
     "metadata": {},
     "output_type": "display_data"
    }
   ],
   "source": [
    "NE_pd_me = PrisonersDilemma_gmax.compute_Nash_Equilibrium()"
   ]
  },
  {
   "cell_type": "code",
   "execution_count": 16,
   "metadata": {},
   "outputs": [
    {
     "data": {
      "text/html": [
       "<div>\n",
       "<style scoped>\n",
       "    .dataframe tbody tr th:only-of-type {\n",
       "        vertical-align: middle;\n",
       "    }\n",
       "\n",
       "    .dataframe tbody tr th {\n",
       "        vertical-align: top;\n",
       "    }\n",
       "\n",
       "    .dataframe thead th {\n",
       "        text-align: right;\n",
       "    }\n",
       "</style>\n",
       "<table border=\"1\" class=\"dataframe\">\n",
       "  <thead>\n",
       "    <tr style=\"text-align: right;\">\n",
       "      <th></th>\n",
       "      <th>thetaA</th>\n",
       "      <th>phiA</th>\n",
       "      <th>thetaB</th>\n",
       "      <th>phiB</th>\n",
       "      <th>utilityA</th>\n",
       "      <th>utilityB</th>\n",
       "      <th>Best_responses_A</th>\n",
       "      <th>Best_responses_B</th>\n",
       "    </tr>\n",
       "  </thead>\n",
       "  <tbody>\n",
       "    <tr>\n",
       "      <th>1220</th>\n",
       "      <td>0.0</td>\n",
       "      <td>1.570796</td>\n",
       "      <td>0.0</td>\n",
       "      <td>1.570796</td>\n",
       "      <td>3.0</td>\n",
       "      <td>3.0</td>\n",
       "      <td>True</td>\n",
       "      <td>True</td>\n",
       "    </tr>\n",
       "  </tbody>\n",
       "</table>\n",
       "</div>"
      ],
      "text/plain": [
       "      thetaA      phiA  thetaB      phiB  utilityA  utilityB Best_responses_A  \\\n",
       "1220     0.0  1.570796     0.0  1.570796       3.0       3.0             True   \n",
       "\n",
       "     Best_responses_B  \n",
       "1220             True  "
      ]
     },
     "metadata": {},
     "output_type": "display_data"
    }
   ],
   "source": [
    "display(NE_pd_me)"
   ]
  },
  {
   "cell_type": "markdown",
   "metadata": {},
   "source": [
    "So, in a maximally entangled game, there is a unique Nash Equilibrium! Such equilibrium consists in both players selecting a particular strategy that we call:\n",
    "\n",
    "$$\n",
    "\\hat{Q} = \\hat{U}(0,\\pi/2) = \\begin{pmatrix}i&0\\\\0&-i\\end{pmatrix} \\qquad\n",
    "$$"
   ]
  },
  {
   "cell_type": "markdown",
   "metadata": {},
   "source": [
    "Assuming player A goes $\\hat{Q}$, what are the possible payoffs of B?"
   ]
  },
  {
   "cell_type": "code",
   "execution_count": 17,
   "metadata": {},
   "outputs": [
    {
     "data": {
      "application/vnd.jupyter.widget-view+json": {
       "model_id": "d36b48d2cc144b35ac0503d967bff7a6",
       "version_major": 2,
       "version_minor": 0
      },
      "text/plain": [
       "  0%|          | 0/121 [00:00<?, ?it/s]"
      ]
     },
     "metadata": {},
     "output_type": "display_data"
    }
   ],
   "source": [
    "PrisonersDilemma_gmax_vsQ = Quantum2x2Game(payoff_matrix=payoff_matrix_pd, gamma=np.pi/2)\n",
    "PrisonersDilemma_gmax_vsQ.update_parameters(theta=[0], phi=[np.pi/2], player=\"A\")\n",
    "\n",
    "grid_me_AQ = PrisonersDilemma_gmax_vsQ.compute_payoff_grid()"
   ]
  },
  {
   "cell_type": "code",
   "execution_count": 18,
   "metadata": {},
   "outputs": [
    {
     "data": {
      "image/png": "[encoded data removed]",
      "text/plain": [
       "<Figure size 576x288 with 2 Axes>"
      ]
     },
     "metadata": {},
     "output_type": "display_data"
    }
   ],
   "source": [
    "# Plot the results as a heatmap\n",
    "fig = plt.figure(figsize=(8,4))\n",
    "\n",
    "grid_me_AQ_pivot = grid_me_AQ.pivot(\"phiB\", \"thetaB\", \"utilityB\")\n",
    "minu_BvsQ = sns.heatmap(grid_me_AQ_pivot, cmap=\"coolwarm\")\n",
    "\n",
    "xticklabels = ['0'] + ['']*(len(thetaA)//2-1) + [r'$\\pi$/2'] + ['']*(len(thetaA)//2-1) + [r'$\\pi$']\n",
    "yticklabels = ['0'] + ['']*(len(phiA)//2-1) + [r'$\\pi$/4'] + ['']*(len(phiA)//2-1) + [r'$\\pi/2$']\n",
    "\n",
    "minu_BvsQ.set_xticklabels(xticklabels, size = 17, rotation=0)\n",
    "minu_BvsQ.set_yticklabels(yticklabels, size = 17)\n",
    "minu_BvsQ.set_title(r'Payoffs of player B when A goes $\\hat{Q}$ ($\\gamma=\\pi/2$)', fontsize=18, y=1.05)\n",
    "minu_BvsQ.set_xlabel(r'$\\theta_B$', fontsize=20)\n",
    "minu_BvsQ.set_ylabel(r'$\\phi_B$', fontsize=20)\n",
    "\n",
    "minu_BvsQ.annotate(r'$\\hat{C}$', xy=(0.5,0.5), fontsize=20, xytext=(3,0.5),\n",
    "                  arrowprops=dict(arrowstyle=\"fancy\", color=\"0\", shrinkA=5, shrinkB=5,\n",
    "                                 connectionstyle=\"angle3,angleA=0,angleB=90\"))\n",
    "minu_BvsQ.annotate(r'$\\hat{D}$', xy=(10.5,0.5), fontsize=20, xytext=(7,0.5),\n",
    "                  arrowprops=dict(arrowstyle=\"fancy\", color=\"0\", shrinkA=5, shrinkB=5,\n",
    "                                 connectionstyle=\"angle3,angleA=0,angleB=90\"))\n",
    "minu_BvsQ.annotate(r'$\\hat{Q}$', xy=(0.5,10.5), fontsize=20, xytext=(4.5,5.5),\n",
    "                  arrowprops=dict(arrowstyle=\"fancy\", color=\"0\", shrinkA=5, shrinkB=5,\n",
    "                                 connectionstyle=\"angle3,angleA=0,angleB=90\"))\n",
    "\n",
    "minu_BvsQ.invert_yaxis()"
   ]
  },
  {
   "cell_type": "code",
   "execution_count": 19,
   "metadata": {},
   "outputs": [
    {
     "name": "stdout",
     "output_type": "stream",
     "text": [
      "The strategy is Pareto optimal!\n"
     ]
    }
   ],
   "source": [
    "PrisonersDilemma_gmax.Is_Pareto_Optimal(1220)"
   ]
  },
  {
   "cell_type": "markdown",
   "metadata": {},
   "source": [
    "Very important result: the (unique) NE is also Pareto optimal! In the classical game, instead, the NE was not. <br>\n",
    "In a certain sense, in the quantum framework, the \"dilemma\" has been solved."
   ]
  },
  {
   "cell_type": "markdown",
   "metadata": {},
   "source": [
    "### Quantum player vs Classical opponent"
   ]
  },
  {
   "cell_type": "markdown",
   "metadata": {},
   "source": [
    "Now suppose that only player A is allowed to select quantum strategies, while player B is limited to the classical world:\n",
    "* A's strategies: $\\hat{U}(\\theta_A,\\phi_A)$\n",
    "* B's strategies: $\\hat{U}(\\theta_B,0)$\n",
    "\n",
    "Does this situation provide any kind of advantage to one of the players?"
   ]
  },
  {
   "cell_type": "markdown",
   "metadata": {},
   "source": [
    "Again, let's study the NE in the maximum entangled case."
   ]
  },
  {
   "cell_type": "code",
   "execution_count": 20,
   "metadata": {},
   "outputs": [],
   "source": [
    "PrisonersDilemma_gmax_QC = Quantum2x2Game(payoff_matrix=payoff_matrix_pd, gamma=np.pi/2)\n",
    "PrisonersDilemma_gmax_QC.update_parameters(phi=[0], player=\"B\")"
   ]
  },
  {
   "cell_type": "code",
   "execution_count": 21,
   "metadata": {
    "scrolled": true
   },
   "outputs": [
    {
     "name": "stdout",
     "output_type": "stream",
     "text": [
      "Constructing the complete grid of payoffs...\n"
     ]
    },
    {
     "data": {
      "application/vnd.jupyter.widget-view+json": {
       "model_id": "7bf4fbb7b479418fb0ecf8a1cf27e0c1",
       "version_major": 2,
       "version_minor": 0
      },
      "text/plain": [
       "  0%|          | 0/1331 [00:00<?, ?it/s]"
      ]
     },
     "metadata": {},
     "output_type": "display_data"
    },
    {
     "name": "stdout",
     "output_type": "stream",
     "text": [
      "Computing the best responses for the players...\n"
     ]
    },
    {
     "data": {
      "application/vnd.jupyter.widget-view+json": {
       "model_id": "2f24759e75f14cd2adf1e50a6ad4c7f5",
       "version_major": 2,
       "version_minor": 0
      },
      "text/plain": [
       "  0%|          | 0/1331 [00:00<?, ?it/s]"
      ]
     },
     "metadata": {},
     "output_type": "display_data"
    }
   ],
   "source": [
    "NE_pd_me_qc = PrisonersDilemma_gmax_QC.compute_Nash_Equilibrium()"
   ]
  },
  {
   "cell_type": "code",
   "execution_count": 22,
   "metadata": {
    "scrolled": true
   },
   "outputs": [
    {
     "data": {
      "text/html": [
       "<div>\n",
       "<style scoped>\n",
       "    .dataframe tbody tr th:only-of-type {\n",
       "        vertical-align: middle;\n",
       "    }\n",
       "\n",
       "    .dataframe tbody tr th {\n",
       "        vertical-align: top;\n",
       "    }\n",
       "\n",
       "    .dataframe thead th {\n",
       "        text-align: right;\n",
       "    }\n",
       "</style>\n",
       "<table border=\"1\" class=\"dataframe\">\n",
       "  <thead>\n",
       "    <tr style=\"text-align: right;\">\n",
       "      <th></th>\n",
       "      <th>thetaA</th>\n",
       "      <th>phiA</th>\n",
       "      <th>thetaB</th>\n",
       "      <th>phiB</th>\n",
       "      <th>utilityA</th>\n",
       "      <th>utilityB</th>\n",
       "      <th>Best_responses_A</th>\n",
       "      <th>Best_responses_B</th>\n",
       "    </tr>\n",
       "  </thead>\n",
       "  <tbody>\n",
       "  </tbody>\n",
       "</table>\n",
       "</div>"
      ],
      "text/plain": [
       "Empty DataFrame\n",
       "Columns: [thetaA, phiA, thetaB, phiB, utilityA, utilityB, Best_responses_A, Best_responses_B]\n",
       "Index: []"
      ]
     },
     "metadata": {},
     "output_type": "display_data"
    }
   ],
   "source": [
    "display(NE_pd_me_qc)"
   ]
  },
  {
   "cell_type": "markdown",
   "metadata": {},
   "source": [
    "There are no NE in this game, and the reason is that player A is in a strong position respect to player B. It possible to prove, in fact, that there exists a strategy $\\hat{M}$ avaiable to A (a \"miracle move\") that guarantees to him always the maximum payoff:\n",
    "$$ \\hat{M}\\equiv\\hat{U}(\\pi/2,\\pi/2)=\\frac{1}{\\sqrt{2}}\\begin{pmatrix} i&-1\\\\1&-i \\end{pmatrix}  $$\n",
    "To prove it, we can directly look at the utility functions in that case."
   ]
  },
  {
   "cell_type": "code",
   "execution_count": 23,
   "metadata": {},
   "outputs": [],
   "source": [
    "PrisonersDilemma_gmax_QC_MM = Quantum2x2Game(payoff_matrix=payoff_matrix_pd, gamma=np.pi/2)\n",
    "PrisonersDilemma_gmax_QC_MM.update_parameters(theta=[np.pi/2], phi=[np.pi/2], player=\"A\")\n",
    "PrisonersDilemma_gmax_QC_MM.update_parameters(theta=None, phi=[0], player=\"B\")"
   ]
  },
  {
   "cell_type": "code",
   "execution_count": 24,
   "metadata": {},
   "outputs": [
    {
     "data": {
      "application/vnd.jupyter.widget-view+json": {
       "model_id": "266d75bc30ab4e7d884774e1c02ee562",
       "version_major": 2,
       "version_minor": 0
      },
      "text/plain": [
       "  0%|          | 0/11 [00:00<?, ?it/s]"
      ]
     },
     "metadata": {},
     "output_type": "display_data"
    },
    {
     "data": {
      "text/html": [
       "<div>\n",
       "<style scoped>\n",
       "    .dataframe tbody tr th:only-of-type {\n",
       "        vertical-align: middle;\n",
       "    }\n",
       "\n",
       "    .dataframe tbody tr th {\n",
       "        vertical-align: top;\n",
       "    }\n",
       "\n",
       "    .dataframe thead th {\n",
       "        text-align: right;\n",
       "    }\n",
       "</style>\n",
       "<table border=\"1\" class=\"dataframe\">\n",
       "  <thead>\n",
       "    <tr style=\"text-align: right;\">\n",
       "      <th></th>\n",
       "      <th>thetaA</th>\n",
       "      <th>phiA</th>\n",
       "      <th>thetaB</th>\n",
       "      <th>phiB</th>\n",
       "      <th>utilityA</th>\n",
       "      <th>utilityB</th>\n",
       "    </tr>\n",
       "  </thead>\n",
       "  <tbody>\n",
       "    <tr>\n",
       "      <th>0</th>\n",
       "      <td>1.570796</td>\n",
       "      <td>1.570796</td>\n",
       "      <td>0.000000</td>\n",
       "      <td>0.0</td>\n",
       "      <td>3.000000</td>\n",
       "      <td>0.500000</td>\n",
       "    </tr>\n",
       "    <tr>\n",
       "      <th>1</th>\n",
       "      <td>1.570796</td>\n",
       "      <td>1.570796</td>\n",
       "      <td>0.314159</td>\n",
       "      <td>0.0</td>\n",
       "      <td>3.618034</td>\n",
       "      <td>0.345492</td>\n",
       "    </tr>\n",
       "    <tr>\n",
       "      <th>2</th>\n",
       "      <td>1.570796</td>\n",
       "      <td>1.570796</td>\n",
       "      <td>0.628319</td>\n",
       "      <td>0.0</td>\n",
       "      <td>4.175571</td>\n",
       "      <td>0.206107</td>\n",
       "    </tr>\n",
       "    <tr>\n",
       "      <th>3</th>\n",
       "      <td>1.570796</td>\n",
       "      <td>1.570796</td>\n",
       "      <td>0.942478</td>\n",
       "      <td>0.0</td>\n",
       "      <td>4.618034</td>\n",
       "      <td>0.095492</td>\n",
       "    </tr>\n",
       "    <tr>\n",
       "      <th>4</th>\n",
       "      <td>1.570796</td>\n",
       "      <td>1.570796</td>\n",
       "      <td>1.256637</td>\n",
       "      <td>0.0</td>\n",
       "      <td>4.902113</td>\n",
       "      <td>0.024472</td>\n",
       "    </tr>\n",
       "    <tr>\n",
       "      <th>...</th>\n",
       "      <td>...</td>\n",
       "      <td>...</td>\n",
       "      <td>...</td>\n",
       "      <td>...</td>\n",
       "      <td>...</td>\n",
       "      <td>...</td>\n",
       "    </tr>\n",
       "    <tr>\n",
       "      <th>6</th>\n",
       "      <td>1.570796</td>\n",
       "      <td>1.570796</td>\n",
       "      <td>1.884956</td>\n",
       "      <td>0.0</td>\n",
       "      <td>4.902113</td>\n",
       "      <td>0.024472</td>\n",
       "    </tr>\n",
       "    <tr>\n",
       "      <th>7</th>\n",
       "      <td>1.570796</td>\n",
       "      <td>1.570796</td>\n",
       "      <td>2.199115</td>\n",
       "      <td>0.0</td>\n",
       "      <td>4.618034</td>\n",
       "      <td>0.095492</td>\n",
       "    </tr>\n",
       "    <tr>\n",
       "      <th>8</th>\n",
       "      <td>1.570796</td>\n",
       "      <td>1.570796</td>\n",
       "      <td>2.513274</td>\n",
       "      <td>0.0</td>\n",
       "      <td>4.175571</td>\n",
       "      <td>0.206107</td>\n",
       "    </tr>\n",
       "    <tr>\n",
       "      <th>9</th>\n",
       "      <td>1.570796</td>\n",
       "      <td>1.570796</td>\n",
       "      <td>2.827433</td>\n",
       "      <td>0.0</td>\n",
       "      <td>3.618034</td>\n",
       "      <td>0.345492</td>\n",
       "    </tr>\n",
       "    <tr>\n",
       "      <th>10</th>\n",
       "      <td>1.570796</td>\n",
       "      <td>1.570796</td>\n",
       "      <td>3.141593</td>\n",
       "      <td>0.0</td>\n",
       "      <td>3.000000</td>\n",
       "      <td>0.500000</td>\n",
       "    </tr>\n",
       "  </tbody>\n",
       "</table>\n",
       "<p>11 rows × 6 columns</p>\n",
       "</div>"
      ],
      "text/plain": [
       "      thetaA      phiA    thetaB  phiB  utilityA  utilityB\n",
       "0   1.570796  1.570796  0.000000   0.0  3.000000  0.500000\n",
       "1   1.570796  1.570796  0.314159   0.0  3.618034  0.345492\n",
       "2   1.570796  1.570796  0.628319   0.0  4.175571  0.206107\n",
       "3   1.570796  1.570796  0.942478   0.0  4.618034  0.095492\n",
       "4   1.570796  1.570796  1.256637   0.0  4.902113  0.024472\n",
       "..       ...       ...       ...   ...       ...       ...\n",
       "6   1.570796  1.570796  1.884956   0.0  4.902113  0.024472\n",
       "7   1.570796  1.570796  2.199115   0.0  4.618034  0.095492\n",
       "8   1.570796  1.570796  2.513274   0.0  4.175571  0.206107\n",
       "9   1.570796  1.570796  2.827433   0.0  3.618034  0.345492\n",
       "10  1.570796  1.570796  3.141593   0.0  3.000000  0.500000\n",
       "\n",
       "[11 rows x 6 columns]"
      ]
     },
     "execution_count": 24,
     "metadata": {},
     "output_type": "execute_result"
    }
   ],
   "source": [
    "payoffs_QvsC_MM = PrisonersDilemma_gmax_QC_MM.compute_payoff_grid()\n",
    "payoffs_QvsC_MM"
   ]
  },
  {
   "cell_type": "code",
   "execution_count": 25,
   "metadata": {},
   "outputs": [
    {
     "data": {
      "image/png": "[encoded data removed]",
      "text/plain": [
       "<Figure size 576x360 with 1 Axes>"
      ]
     },
     "metadata": {},
     "output_type": "display_data"
    }
   ],
   "source": [
    "fig = plt.figure(figsize=(8,5))\n",
    "\n",
    "plt.title(\"Players utilities if A chooses the Miracle Move\\nand B is limited to classical strategies\" \n",
    "          + r'($\\gamma=\\pi/2$)', fontsize=20, y=1.01)\n",
    "plt.xlabel(r'$\\theta_B$', fontsize=20)\n",
    "plt.ylabel(\"Expected payoff\", fontsize=20)\n",
    "plt.plot(payoffs_QvsC_MM[\"thetaB\"], payoffs_QvsC_MM[\"utilityA\"], color=\"red\", label=\"Player A\")\n",
    "plt.plot(payoffs_QvsC_MM[\"thetaB\"], payoffs_QvsC_MM[\"utilityB\"], color=\"blue\", label=\"Player B\")\n",
    "plt.grid()\n",
    "plt.legend();"
   ]
  },
  {
   "cell_type": "markdown",
   "metadata": {},
   "source": [
    "Finally, we can make a comparison between the three \"particular\" strategies that A can select ($\\hat{C}$, $\\hat{D}$ or $\\hat{M}$), as a function of the classical one chosen by the opponent."
   ]
  },
  {
   "cell_type": "code",
   "execution_count": 26,
   "metadata": {},
   "outputs": [
    {
     "data": {
      "application/vnd.jupyter.widget-view+json": {
       "model_id": "1e5c964203d549809934b4021ad16f94",
       "version_major": 2,
       "version_minor": 0
      },
      "text/plain": [
       "  0%|          | 0/11 [00:00<?, ?it/s]"
      ]
     },
     "metadata": {},
     "output_type": "display_data"
    },
    {
     "data": {
      "application/vnd.jupyter.widget-view+json": {
       "model_id": "52288e1956b54b72a5e5a4529e742073",
       "version_major": 2,
       "version_minor": 0
      },
      "text/plain": [
       "  0%|          | 0/11 [00:00<?, ?it/s]"
      ]
     },
     "metadata": {},
     "output_type": "display_data"
    },
    {
     "data": {
      "application/vnd.jupyter.widget-view+json": {
       "model_id": "6b807f787a374caaac3a917b484e20b1",
       "version_major": 2,
       "version_minor": 0
      },
      "text/plain": [
       "  0%|          | 0/11 [00:00<?, ?it/s]"
      ]
     },
     "metadata": {},
     "output_type": "display_data"
    }
   ],
   "source": [
    "PrisonersDilemma_gmax_AC = Quantum2x2Game(payoff_matrix=payoff_matrix_pd, gamma=np.pi/2)\n",
    "PrisonersDilemma_gmax_AC.update_parameters(theta=[0], phi=[0], player=\"A\")\n",
    "PrisonersDilemma_gmax_AC.update_parameters(phi=[0], player=\"B\")\n",
    "util_AC = PrisonersDilemma_gmax_AC.compute_payoff_grid()[\"utilityA\"]\n",
    "\n",
    "PrisonersDilemma_gmax_AD = Quantum2x2Game(payoff_matrix=payoff_matrix_pd, gamma=np.pi/2)\n",
    "PrisonersDilemma_gmax_AD.update_parameters(theta=[np.pi], phi=[0], player=\"A\")\n",
    "PrisonersDilemma_gmax_AD.update_parameters(phi=[0], player=\"B\")\n",
    "util_AD = PrisonersDilemma_gmax_AD.compute_payoff_grid()[\"utilityA\"]\n",
    "\n",
    "PrisonersDilemma_gmax_AM = Quantum2x2Game(payoff_matrix=payoff_matrix_pd, gamma=np.pi/2)\n",
    "PrisonersDilemma_gmax_AM.update_parameters(theta=[np.pi/2], phi=[np.pi/2], player=\"A\")\n",
    "PrisonersDilemma_gmax_AM.update_parameters(phi=[0], player=\"B\")\n",
    "util_AM = PrisonersDilemma_gmax_AM.compute_payoff_grid()[\"utilityA\"]\n",
    "\n",
    "thetaB_values = PrisonersDilemma_gmax_AC.thetaB"
   ]
  },
  {
   "cell_type": "code",
   "execution_count": 27,
   "metadata": {},
   "outputs": [
    {
     "data": {
      "image/png": "[encoded data removed]",
      "text/plain": [
       "<Figure size 576x360 with 1 Axes>"
      ]
     },
     "metadata": {},
     "output_type": "display_data"
    }
   ],
   "source": [
    "fig = plt.figure(figsize=(8,5))\n",
    "plt.title(r'Comparison of different strategies for A ($\\gamma=\\pi/2$)', fontsize=20)\n",
    "plt.xlabel(r'$\\theta_B$', fontsize=20)\n",
    "plt.ylabel(\"Player A's utility\", fontsize=18)\n",
    "\n",
    "plt.plot(thetaB_values, util_AC, label=r'$\\hat{C}$', color=\"red\", linestyle=\"dashed\")\n",
    "plt.plot(thetaB_values, util_AD, label=r'$\\hat{D}$', color=\"blue\", linestyle=\"dashdot\")\n",
    "plt.plot(thetaB_values, util_AM, label=r'$\\hat{M}$', color=\"black\", linestyle=\"solid\")\n",
    "plt.grid()\n",
    "plt.legend(fontsize=15);"
   ]
  },
  {
   "cell_type": "markdown",
   "metadata": {},
   "source": [
    "#### Payoffs at intermediate entaglement degrees"
   ]
  },
  {
   "cell_type": "markdown",
   "metadata": {},
   "source": [
    "One last interesting analysis that can be done is looking at what happen when $\\gamma$ goes from $0$ to $\\pi$."
   ]
  },
  {
   "cell_type": "markdown",
   "metadata": {},
   "source": [
    "Let's evaluate"
   ]
  },
  {
   "cell_type": "code",
   "execution_count": 28,
   "metadata": {
    "scrolled": true
   },
   "outputs": [
    {
     "data": {
      "application/vnd.jupyter.widget-view+json": {
       "model_id": "303e9077910a49bdb42429d2756717c2",
       "version_major": 2,
       "version_minor": 0
      },
      "text/plain": [
       "  0%|          | 0/9261 [00:00<?, ?it/s]"
      ]
     },
     "metadata": {},
     "output_type": "display_data"
    },
    {
     "data": {
      "application/vnd.jupyter.widget-view+json": {
       "model_id": "dd0103fdb18847bcb409cb581a027557",
       "version_major": 2,
       "version_minor": 0
      },
      "text/plain": [
       "  0%|          | 0/441 [00:00<?, ?it/s]"
      ]
     },
     "metadata": {},
     "output_type": "display_data"
    },
    {
     "data": {
      "application/vnd.jupyter.widget-view+json": {
       "model_id": "ea1e526a97b34c26b56f52cd09d630fc",
       "version_major": 2,
       "version_minor": 0
      },
      "text/plain": [
       "  0%|          | 0/9261 [00:00<?, ?it/s]"
      ]
     },
     "metadata": {},
     "output_type": "display_data"
    },
    {
     "data": {
      "application/vnd.jupyter.widget-view+json": {
       "model_id": "24e6c31ac5804f7990f0a25f3032134d",
       "version_major": 2,
       "version_minor": 0
      },
      "text/plain": [
       "  0%|          | 0/441 [00:00<?, ?it/s]"
      ]
     },
     "metadata": {},
     "output_type": "display_data"
    },
    {
     "data": {
      "application/vnd.jupyter.widget-view+json": {
       "model_id": "ec998a3dfdbe4955b1acf26cc94f69b6",
       "version_major": 2,
       "version_minor": 0
      },
      "text/plain": [
       "  0%|          | 0/9261 [00:00<?, ?it/s]"
      ]
     },
     "metadata": {},
     "output_type": "display_data"
    },
    {
     "data": {
      "application/vnd.jupyter.widget-view+json": {
       "model_id": "e009bcab3d7f4b53a2d022c58bb593a0",
       "version_major": 2,
       "version_minor": 0
      },
      "text/plain": [
       "  0%|          | 0/441 [00:00<?, ?it/s]"
      ]
     },
     "metadata": {},
     "output_type": "display_data"
    },
    {
     "data": {
      "application/vnd.jupyter.widget-view+json": {
       "model_id": "612f18ee7dda4dd9b2c89deb456c4e82",
       "version_major": 2,
       "version_minor": 0
      },
      "text/plain": [
       "  0%|          | 0/9261 [00:00<?, ?it/s]"
      ]
     },
     "metadata": {},
     "output_type": "display_data"
    },
    {
     "data": {
      "application/vnd.jupyter.widget-view+json": {
       "model_id": "7b391b39d0954a7b888cba7450526014",
       "version_major": 2,
       "version_minor": 0
      },
      "text/plain": [
       "  0%|          | 0/441 [00:00<?, ?it/s]"
      ]
     },
     "metadata": {},
     "output_type": "display_data"
    },
    {
     "data": {
      "application/vnd.jupyter.widget-view+json": {
       "model_id": "dc4ba94780374eafa649da6e48e1d0b7",
       "version_major": 2,
       "version_minor": 0
      },
      "text/plain": [
       "  0%|          | 0/9261 [00:00<?, ?it/s]"
      ]
     },
     "metadata": {},
     "output_type": "display_data"
    },
    {
     "data": {
      "application/vnd.jupyter.widget-view+json": {
       "model_id": "74ba5714613a498eaae2c6309a05ca63",
       "version_major": 2,
       "version_minor": 0
      },
      "text/plain": [
       "  0%|          | 0/441 [00:00<?, ?it/s]"
      ]
     },
     "metadata": {},
     "output_type": "display_data"
    },
    {
     "data": {
      "application/vnd.jupyter.widget-view+json": {
       "model_id": "64db23eec58e46ff84347028864a87b9",
       "version_major": 2,
       "version_minor": 0
      },
      "text/plain": [
       "  0%|          | 0/9261 [00:00<?, ?it/s]"
      ]
     },
     "metadata": {},
     "output_type": "display_data"
    },
    {
     "data": {
      "application/vnd.jupyter.widget-view+json": {
       "model_id": "ebb66a1d500f47768509d1c8ea54922c",
       "version_major": 2,
       "version_minor": 0
      },
      "text/plain": [
       "  0%|          | 0/441 [00:00<?, ?it/s]"
      ]
     },
     "metadata": {},
     "output_type": "display_data"
    },
    {
     "data": {
      "application/vnd.jupyter.widget-view+json": {
       "model_id": "4767ca63172146129f56dd37fb95c46c",
       "version_major": 2,
       "version_minor": 0
      },
      "text/plain": [
       "  0%|          | 0/9261 [00:00<?, ?it/s]"
      ]
     },
     "metadata": {},
     "output_type": "display_data"
    },
    {
     "data": {
      "application/vnd.jupyter.widget-view+json": {
       "model_id": "7f7486d0c9354a03868fdbe0dcb5f321",
       "version_major": 2,
       "version_minor": 0
      },
      "text/plain": [
       "  0%|          | 0/441 [00:00<?, ?it/s]"
      ]
     },
     "metadata": {},
     "output_type": "display_data"
    },
    {
     "data": {
      "application/vnd.jupyter.widget-view+json": {
       "model_id": "e270cf2af13247618fae1dd29f879ed5",
       "version_major": 2,
       "version_minor": 0
      },
      "text/plain": [
       "  0%|          | 0/9261 [00:00<?, ?it/s]"
      ]
     },
     "metadata": {},
     "output_type": "display_data"
    },
    {
     "data": {
      "application/vnd.jupyter.widget-view+json": {
       "model_id": "568885f40d074eff86e90c8627ea91b9",
       "version_major": 2,
       "version_minor": 0
      },
      "text/plain": [
       "  0%|          | 0/441 [00:00<?, ?it/s]"
      ]
     },
     "metadata": {},
     "output_type": "display_data"
    },
    {
     "data": {
      "application/vnd.jupyter.widget-view+json": {
       "model_id": "e0ff29bf45df4b7ba8efafb90f43cfb5",
       "version_major": 2,
       "version_minor": 0
      },
      "text/plain": [
       "  0%|          | 0/9261 [00:00<?, ?it/s]"
      ]
     },
     "metadata": {},
     "output_type": "display_data"
    },
    {
     "data": {
      "application/vnd.jupyter.widget-view+json": {
       "model_id": "ca1b1b8d177a4d39a3c0eb7bfa0f2786",
       "version_major": 2,
       "version_minor": 0
      },
      "text/plain": [
       "  0%|          | 0/441 [00:00<?, ?it/s]"
      ]
     },
     "metadata": {},
     "output_type": "display_data"
    },
    {
     "data": {
      "application/vnd.jupyter.widget-view+json": {
       "model_id": "0e974c57b2f04c478e0d3e0bbb22d2a0",
       "version_major": 2,
       "version_minor": 0
      },
      "text/plain": [
       "  0%|          | 0/9261 [00:00<?, ?it/s]"
      ]
     },
     "metadata": {},
     "output_type": "display_data"
    },
    {
     "data": {
      "application/vnd.jupyter.widget-view+json": {
       "model_id": "3948771250c94a98831d2f69dd64186c",
       "version_major": 2,
       "version_minor": 0
      },
      "text/plain": [
       "  0%|          | 0/441 [00:00<?, ?it/s]"
      ]
     },
     "metadata": {},
     "output_type": "display_data"
    },
    {
     "data": {
      "application/vnd.jupyter.widget-view+json": {
       "model_id": "31f6d8936f554d0cb1cf1b6646ab3d39",
       "version_major": 2,
       "version_minor": 0
      },
      "text/plain": [
       "  0%|          | 0/9261 [00:00<?, ?it/s]"
      ]
     },
     "metadata": {},
     "output_type": "display_data"
    },
    {
     "data": {
      "application/vnd.jupyter.widget-view+json": {
       "model_id": "947a98eae3a5438fa2c04fb5ea4cca66",
       "version_major": 2,
       "version_minor": 0
      },
      "text/plain": [
       "  0%|          | 0/441 [00:00<?, ?it/s]"
      ]
     },
     "metadata": {},
     "output_type": "display_data"
    },
    {
     "data": {
      "application/vnd.jupyter.widget-view+json": {
       "model_id": "7ee30da6961b4121b78cdc48eff4a8b1",
       "version_major": 2,
       "version_minor": 0
      },
      "text/plain": [
       "  0%|          | 0/9261 [00:00<?, ?it/s]"
      ]
     },
     "metadata": {},
     "output_type": "display_data"
    },
    {
     "data": {
      "application/vnd.jupyter.widget-view+json": {
       "model_id": "b1da656246374b90a326dbda9e264b99",
       "version_major": 2,
       "version_minor": 0
      },
      "text/plain": [
       "  0%|          | 0/441 [00:00<?, ?it/s]"
      ]
     },
     "metadata": {},
     "output_type": "display_data"
    },
    {
     "data": {
      "application/vnd.jupyter.widget-view+json": {
       "model_id": "2c44bb2343d44b8d93ec4bf26f87d014",
       "version_major": 2,
       "version_minor": 0
      },
      "text/plain": [
       "  0%|          | 0/9261 [00:00<?, ?it/s]"
      ]
     },
     "metadata": {},
     "output_type": "display_data"
    },
    {
     "data": {
      "application/vnd.jupyter.widget-view+json": {
       "model_id": "9be91aebd3f24d6ca77ef8eb5ded589b",
       "version_major": 2,
       "version_minor": 0
      },
      "text/plain": [
       "  0%|          | 0/441 [00:00<?, ?it/s]"
      ]
     },
     "metadata": {},
     "output_type": "display_data"
    },
    {
     "data": {
      "application/vnd.jupyter.widget-view+json": {
       "model_id": "91426de8098e4c17bb2810f943a4b4cb",
       "version_major": 2,
       "version_minor": 0
      },
      "text/plain": [
       "  0%|          | 0/9261 [00:00<?, ?it/s]"
      ]
     },
     "metadata": {},
     "output_type": "display_data"
    },
    {
     "data": {
      "application/vnd.jupyter.widget-view+json": {
       "model_id": "1fa79529b6b74aba8eebec53f2d054f4",
       "version_major": 2,
       "version_minor": 0
      },
      "text/plain": [
       "  0%|          | 0/441 [00:00<?, ?it/s]"
      ]
     },
     "metadata": {},
     "output_type": "display_data"
    },
    {
     "data": {
      "application/vnd.jupyter.widget-view+json": {
       "model_id": "aa30f650faf64a4fa97eb3f1bce0eb4f",
       "version_major": 2,
       "version_minor": 0
      },
      "text/plain": [
       "  0%|          | 0/9261 [00:00<?, ?it/s]"
      ]
     },
     "metadata": {},
     "output_type": "display_data"
    },
    {
     "data": {
      "application/vnd.jupyter.widget-view+json": {
       "model_id": "431e0726b55649439896f9123009253a",
       "version_major": 2,
       "version_minor": 0
      },
      "text/plain": [
       "  0%|          | 0/441 [00:00<?, ?it/s]"
      ]
     },
     "metadata": {},
     "output_type": "display_data"
    },
    {
     "data": {
      "application/vnd.jupyter.widget-view+json": {
       "model_id": "a1c8e94a7c87407eb4a12ae0ca42c89d",
       "version_major": 2,
       "version_minor": 0
      },
      "text/plain": [
       "  0%|          | 0/9261 [00:00<?, ?it/s]"
      ]
     },
     "metadata": {},
     "output_type": "display_data"
    },
    {
     "data": {
      "application/vnd.jupyter.widget-view+json": {
       "model_id": "07059985176f4c08a448e7f6981d3a10",
       "version_major": 2,
       "version_minor": 0
      },
      "text/plain": [
       "  0%|          | 0/441 [00:00<?, ?it/s]"
      ]
     },
     "metadata": {},
     "output_type": "display_data"
    },
    {
     "data": {
      "application/vnd.jupyter.widget-view+json": {
       "model_id": "f2a16d0063bc460295b8aa04c9c0ed5e",
       "version_major": 2,
       "version_minor": 0
      },
      "text/plain": [
       "  0%|          | 0/9261 [00:00<?, ?it/s]"
      ]
     },
     "metadata": {},
     "output_type": "display_data"
    },
    {
     "data": {
      "application/vnd.jupyter.widget-view+json": {
       "model_id": "415889567e074b578d90640787528529",
       "version_major": 2,
       "version_minor": 0
      },
      "text/plain": [
       "  0%|          | 0/441 [00:00<?, ?it/s]"
      ]
     },
     "metadata": {},
     "output_type": "display_data"
    },
    {
     "data": {
      "application/vnd.jupyter.widget-view+json": {
       "model_id": "f49e1988303946d48243170f295d7e96",
       "version_major": 2,
       "version_minor": 0
      },
      "text/plain": [
       "  0%|          | 0/9261 [00:00<?, ?it/s]"
      ]
     },
     "metadata": {},
     "output_type": "display_data"
    },
    {
     "data": {
      "application/vnd.jupyter.widget-view+json": {
       "model_id": "ae6a727b546946598daaef5dcb540c4f",
       "version_major": 2,
       "version_minor": 0
      },
      "text/plain": [
       "  0%|          | 0/441 [00:00<?, ?it/s]"
      ]
     },
     "metadata": {},
     "output_type": "display_data"
    },
    {
     "data": {
      "application/vnd.jupyter.widget-view+json": {
       "model_id": "5d05bd9b7c784376ae32d314a1ba0cbf",
       "version_major": 2,
       "version_minor": 0
      },
      "text/plain": [
       "  0%|          | 0/9261 [00:00<?, ?it/s]"
      ]
     },
     "metadata": {},
     "output_type": "display_data"
    },
    {
     "data": {
      "application/vnd.jupyter.widget-view+json": {
       "model_id": "06a8534f24814c528f2d9a880072c5ad",
       "version_major": 2,
       "version_minor": 0
      },
      "text/plain": [
       "  0%|          | 0/441 [00:00<?, ?it/s]"
      ]
     },
     "metadata": {},
     "output_type": "display_data"
    },
    {
     "data": {
      "application/vnd.jupyter.widget-view+json": {
       "model_id": "0f4d14094fd242609b57532dfc61970c",
       "version_major": 2,
       "version_minor": 0
      },
      "text/plain": [
       "  0%|          | 0/9261 [00:00<?, ?it/s]"
      ]
     },
     "metadata": {},
     "output_type": "display_data"
    },
    {
     "data": {
      "application/vnd.jupyter.widget-view+json": {
       "model_id": "df3d90d56bbb4fabaae90cbae5320d1f",
       "version_major": 2,
       "version_minor": 0
      },
      "text/plain": [
       "  0%|          | 0/441 [00:00<?, ?it/s]"
      ]
     },
     "metadata": {},
     "output_type": "display_data"
    },
    {
     "data": {
      "application/vnd.jupyter.widget-view+json": {
       "model_id": "d82390a00a5f4a0297914ff74db3cb2e",
       "version_major": 2,
       "version_minor": 0
      },
      "text/plain": [
       "  0%|          | 0/9261 [00:00<?, ?it/s]"
      ]
     },
     "metadata": {},
     "output_type": "display_data"
    },
    {
     "data": {
      "application/vnd.jupyter.widget-view+json": {
       "model_id": "a71fd40d26034797a89f806650b0567a",
       "version_major": 2,
       "version_minor": 0
      },
      "text/plain": [
       "  0%|          | 0/441 [00:00<?, ?it/s]"
      ]
     },
     "metadata": {},
     "output_type": "display_data"
    },
    {
     "data": {
      "application/vnd.jupyter.widget-view+json": {
       "model_id": "5307a4bdea6f403f9950ac9300b44aad",
       "version_major": 2,
       "version_minor": 0
      },
      "text/plain": [
       "  0%|          | 0/9261 [00:00<?, ?it/s]"
      ]
     },
     "metadata": {},
     "output_type": "display_data"
    },
    {
     "data": {
      "application/vnd.jupyter.widget-view+json": {
       "model_id": "c3f77070a335472180d81f68867b760a",
       "version_major": 2,
       "version_minor": 0
      },
      "text/plain": [
       "  0%|          | 0/441 [00:00<?, ?it/s]"
      ]
     },
     "metadata": {},
     "output_type": "display_data"
    },
    {
     "data": {
      "application/vnd.jupyter.widget-view+json": {
       "model_id": "12a8742d00aa4a46b499cf711a8768ff",
       "version_major": 2,
       "version_minor": 0
      },
      "text/plain": [
       "  0%|          | 0/9261 [00:00<?, ?it/s]"
      ]
     },
     "metadata": {},
     "output_type": "display_data"
    },
    {
     "data": {
      "application/vnd.jupyter.widget-view+json": {
       "model_id": "4db1ac85efdb4251a9d34c9addf57af4",
       "version_major": 2,
       "version_minor": 0
      },
      "text/plain": [
       "  0%|          | 0/441 [00:00<?, ?it/s]"
      ]
     },
     "metadata": {},
     "output_type": "display_data"
    },
    {
     "data": {
      "application/vnd.jupyter.widget-view+json": {
       "model_id": "e598ed7fbdbd45e9aec75146fea1f975",
       "version_major": 2,
       "version_minor": 0
      },
      "text/plain": [
       "  0%|          | 0/9261 [00:00<?, ?it/s]"
      ]
     },
     "metadata": {},
     "output_type": "display_data"
    },
    {
     "data": {
      "application/vnd.jupyter.widget-view+json": {
       "model_id": "0a3d850007fa4ed3a73378a1f3843410",
       "version_major": 2,
       "version_minor": 0
      },
      "text/plain": [
       "  0%|          | 0/441 [00:00<?, ?it/s]"
      ]
     },
     "metadata": {},
     "output_type": "display_data"
    },
    {
     "data": {
      "application/vnd.jupyter.widget-view+json": {
       "model_id": "89b39183e98b4d379c6a3d0a914ede31",
       "version_major": 2,
       "version_minor": 0
      },
      "text/plain": [
       "  0%|          | 0/9261 [00:00<?, ?it/s]"
      ]
     },
     "metadata": {},
     "output_type": "display_data"
    },
    {
     "data": {
      "application/vnd.jupyter.widget-view+json": {
       "model_id": "3ccb0e715ce944278bc17f31073efab1",
       "version_major": 2,
       "version_minor": 0
      },
      "text/plain": [
       "  0%|          | 0/441 [00:00<?, ?it/s]"
      ]
     },
     "metadata": {},
     "output_type": "display_data"
    },
    {
     "data": {
      "application/vnd.jupyter.widget-view+json": {
       "model_id": "2c68daf1d7174cffb4ab29b5b0c904f8",
       "version_major": 2,
       "version_minor": 0
      },
      "text/plain": [
       "  0%|          | 0/9261 [00:00<?, ?it/s]"
      ]
     },
     "metadata": {},
     "output_type": "display_data"
    },
    {
     "data": {
      "application/vnd.jupyter.widget-view+json": {
       "model_id": "43d83548e04c417ca1d1f1a2cae828cf",
       "version_major": 2,
       "version_minor": 0
      },
      "text/plain": [
       "  0%|          | 0/441 [00:00<?, ?it/s]"
      ]
     },
     "metadata": {},
     "output_type": "display_data"
    },
    {
     "data": {
      "application/vnd.jupyter.widget-view+json": {
       "model_id": "14d57d1c4d064fd4b7856542597de00d",
       "version_major": 2,
       "version_minor": 0
      },
      "text/plain": [
       "  0%|          | 0/9261 [00:00<?, ?it/s]"
      ]
     },
     "metadata": {},
     "output_type": "display_data"
    },
    {
     "data": {
      "application/vnd.jupyter.widget-view+json": {
       "model_id": "b84777ea62bc41b9a1b206b2241350df",
       "version_major": 2,
       "version_minor": 0
      },
      "text/plain": [
       "  0%|          | 0/441 [00:00<?, ?it/s]"
      ]
     },
     "metadata": {},
     "output_type": "display_data"
    },
    {
     "data": {
      "application/vnd.jupyter.widget-view+json": {
       "model_id": "087ca626cd424de589f0667d74fc616b",
       "version_major": 2,
       "version_minor": 0
      },
      "text/plain": [
       "  0%|          | 0/9261 [00:00<?, ?it/s]"
      ]
     },
     "metadata": {},
     "output_type": "display_data"
    },
    {
     "data": {
      "application/vnd.jupyter.widget-view+json": {
       "model_id": "7d5e22e3d870402893bea2f4c278e294",
       "version_major": 2,
       "version_minor": 0
      },
      "text/plain": [
       "  0%|          | 0/441 [00:00<?, ?it/s]"
      ]
     },
     "metadata": {},
     "output_type": "display_data"
    },
    {
     "data": {
      "application/vnd.jupyter.widget-view+json": {
       "model_id": "7bc183033aad4f128121660464f66e09",
       "version_major": 2,
       "version_minor": 0
      },
      "text/plain": [
       "  0%|          | 0/9261 [00:00<?, ?it/s]"
      ]
     },
     "metadata": {},
     "output_type": "display_data"
    },
    {
     "data": {
      "application/vnd.jupyter.widget-view+json": {
       "model_id": "ccb2febd5214496ab831113901a019fa",
       "version_major": 2,
       "version_minor": 0
      },
      "text/plain": [
       "  0%|          | 0/441 [00:00<?, ?it/s]"
      ]
     },
     "metadata": {},
     "output_type": "display_data"
    },
    {
     "data": {
      "application/vnd.jupyter.widget-view+json": {
       "model_id": "73374b2403ad4698b6bc960638289cad",
       "version_major": 2,
       "version_minor": 0
      },
      "text/plain": [
       "  0%|          | 0/9261 [00:00<?, ?it/s]"
      ]
     },
     "metadata": {},
     "output_type": "display_data"
    },
    {
     "data": {
      "application/vnd.jupyter.widget-view+json": {
       "model_id": "52f92b6559a24d66bf5bb1c15ed53003",
       "version_major": 2,
       "version_minor": 0
      },
      "text/plain": [
       "  0%|          | 0/441 [00:00<?, ?it/s]"
      ]
     },
     "metadata": {},
     "output_type": "display_data"
    },
    {
     "data": {
      "application/vnd.jupyter.widget-view+json": {
       "model_id": "824a99b163144fa9a90611fb38fee71e",
       "version_major": 2,
       "version_minor": 0
      },
      "text/plain": [
       "  0%|          | 0/9261 [00:00<?, ?it/s]"
      ]
     },
     "metadata": {},
     "output_type": "display_data"
    },
    {
     "data": {
      "application/vnd.jupyter.widget-view+json": {
       "model_id": "e07e837bc98f474dbb9216a5b4e841da",
       "version_major": 2,
       "version_minor": 0
      },
      "text/plain": [
       "  0%|          | 0/441 [00:00<?, ?it/s]"
      ]
     },
     "metadata": {},
     "output_type": "display_data"
    },
    {
     "data": {
      "application/vnd.jupyter.widget-view+json": {
       "model_id": "899a44db333546efa95cd4781cca0e28",
       "version_major": 2,
       "version_minor": 0
      },
      "text/plain": [
       "  0%|          | 0/9261 [00:00<?, ?it/s]"
      ]
     },
     "metadata": {},
     "output_type": "display_data"
    },
    {
     "data": {
      "application/vnd.jupyter.widget-view+json": {
       "model_id": "205cdddcc2df432cb7711cae05df725b",
       "version_major": 2,
       "version_minor": 0
      },
      "text/plain": [
       "  0%|          | 0/441 [00:00<?, ?it/s]"
      ]
     },
     "metadata": {},
     "output_type": "display_data"
    },
    {
     "data": {
      "application/vnd.jupyter.widget-view+json": {
       "model_id": "09759fa6212144db8c5b0f0eae07bb73",
       "version_major": 2,
       "version_minor": 0
      },
      "text/plain": [
       "  0%|          | 0/9261 [00:00<?, ?it/s]"
      ]
     },
     "metadata": {},
     "output_type": "display_data"
    },
    {
     "data": {
      "application/vnd.jupyter.widget-view+json": {
       "model_id": "c8bd76fd91d147d19a58420f595a0020",
       "version_major": 2,
       "version_minor": 0
      },
      "text/plain": [
       "  0%|          | 0/441 [00:00<?, ?it/s]"
      ]
     },
     "metadata": {},
     "output_type": "display_data"
    },
    {
     "data": {
      "application/vnd.jupyter.widget-view+json": {
       "model_id": "17e656ad9f9a425bb5b14dab74b420e5",
       "version_major": 2,
       "version_minor": 0
      },
      "text/plain": [
       "  0%|          | 0/9261 [00:00<?, ?it/s]"
      ]
     },
     "metadata": {},
     "output_type": "display_data"
    },
    {
     "data": {
      "application/vnd.jupyter.widget-view+json": {
       "model_id": "b51736f3d1e0423a8aa36e6dfefe6e37",
       "version_major": 2,
       "version_minor": 0
      },
      "text/plain": [
       "  0%|          | 0/441 [00:00<?, ?it/s]"
      ]
     },
     "metadata": {},
     "output_type": "display_data"
    },
    {
     "data": {
      "application/vnd.jupyter.widget-view+json": {
       "model_id": "97e26f856d1745b09a797568bcaeb615",
       "version_major": 2,
       "version_minor": 0
      },
      "text/plain": [
       "  0%|          | 0/9261 [00:00<?, ?it/s]"
      ]
     },
     "metadata": {},
     "output_type": "display_data"
    },
    {
     "data": {
      "application/vnd.jupyter.widget-view+json": {
       "model_id": "15c1b1cb1d83407b9b725c5f65c7c1e9",
       "version_major": 2,
       "version_minor": 0
      },
      "text/plain": [
       "  0%|          | 0/441 [00:00<?, ?it/s]"
      ]
     },
     "metadata": {},
     "output_type": "display_data"
    },
    {
     "data": {
      "application/vnd.jupyter.widget-view+json": {
       "model_id": "48f89e1d4ed44aa2a4ee02ad4badb1f2",
       "version_major": 2,
       "version_minor": 0
      },
      "text/plain": [
       "  0%|          | 0/9261 [00:00<?, ?it/s]"
      ]
     },
     "metadata": {},
     "output_type": "display_data"
    },
    {
     "data": {
      "application/vnd.jupyter.widget-view+json": {
       "model_id": "d8a227f5c7e7478f9f526066cbbfbef9",
       "version_major": 2,
       "version_minor": 0
      },
      "text/plain": [
       "  0%|          | 0/441 [00:00<?, ?it/s]"
      ]
     },
     "metadata": {},
     "output_type": "display_data"
    },
    {
     "data": {
      "application/vnd.jupyter.widget-view+json": {
       "model_id": "f52994ffef7f46b29bed45351431ca58",
       "version_major": 2,
       "version_minor": 0
      },
      "text/plain": [
       "  0%|          | 0/9261 [00:00<?, ?it/s]"
      ]
     },
     "metadata": {},
     "output_type": "display_data"
    },
    {
     "data": {
      "application/vnd.jupyter.widget-view+json": {
       "model_id": "f705fe61d92945be95cf75794de45591",
       "version_major": 2,
       "version_minor": 0
      },
      "text/plain": [
       "  0%|          | 0/441 [00:00<?, ?it/s]"
      ]
     },
     "metadata": {},
     "output_type": "display_data"
    },
    {
     "data": {
      "application/vnd.jupyter.widget-view+json": {
       "model_id": "3663416645eb4a9c9fd914dc06b67a07",
       "version_major": 2,
       "version_minor": 0
      },
      "text/plain": [
       "  0%|          | 0/9261 [00:00<?, ?it/s]"
      ]
     },
     "metadata": {},
     "output_type": "display_data"
    },
    {
     "data": {
      "application/vnd.jupyter.widget-view+json": {
       "model_id": "a47e108f9df74b1cb6f56475b47b3bd8",
       "version_major": 2,
       "version_minor": 0
      },
      "text/plain": [
       "  0%|          | 0/441 [00:00<?, ?it/s]"
      ]
     },
     "metadata": {},
     "output_type": "display_data"
    },
    {
     "data": {
      "application/vnd.jupyter.widget-view+json": {
       "model_id": "84be6c7cab3b4fb3816720072c896b2b",
       "version_major": 2,
       "version_minor": 0
      },
      "text/plain": [
       "  0%|          | 0/9261 [00:00<?, ?it/s]"
      ]
     },
     "metadata": {},
     "output_type": "display_data"
    },
    {
     "data": {
      "application/vnd.jupyter.widget-view+json": {
       "model_id": "504bc6192fc24de583eb34a783df4714",
       "version_major": 2,
       "version_minor": 0
      },
      "text/plain": [
       "  0%|          | 0/441 [00:00<?, ?it/s]"
      ]
     },
     "metadata": {},
     "output_type": "display_data"
    },
    {
     "data": {
      "application/vnd.jupyter.widget-view+json": {
       "model_id": "08ce985257bb40d9983d737266018259",
       "version_major": 2,
       "version_minor": 0
      },
      "text/plain": [
       "  0%|          | 0/9261 [00:00<?, ?it/s]"
      ]
     },
     "metadata": {},
     "output_type": "display_data"
    },
    {
     "data": {
      "application/vnd.jupyter.widget-view+json": {
       "model_id": "f892d7c9ef5b448aac4e5704d78ab950",
       "version_major": 2,
       "version_minor": 0
      },
      "text/plain": [
       "  0%|          | 0/441 [00:00<?, ?it/s]"
      ]
     },
     "metadata": {},
     "output_type": "display_data"
    },
    {
     "data": {
      "application/vnd.jupyter.widget-view+json": {
       "model_id": "de3705a12eac4e9e89cefd7f6983a0c2",
       "version_major": 2,
       "version_minor": 0
      },
      "text/plain": [
       "  0%|          | 0/9261 [00:00<?, ?it/s]"
      ]
     },
     "metadata": {},
     "output_type": "display_data"
    },
    {
     "data": {
      "application/vnd.jupyter.widget-view+json": {
       "model_id": "cb231291df984dd7ba1b69634c5534da",
       "version_major": 2,
       "version_minor": 0
      },
      "text/plain": [
       "  0%|          | 0/441 [00:00<?, ?it/s]"
      ]
     },
     "metadata": {},
     "output_type": "display_data"
    },
    {
     "data": {
      "application/vnd.jupyter.widget-view+json": {
       "model_id": "33973bf16c8b4faf8b8b91bd733e057e",
       "version_major": 2,
       "version_minor": 0
      },
      "text/plain": [
       "  0%|          | 0/9261 [00:00<?, ?it/s]"
      ]
     },
     "metadata": {},
     "output_type": "display_data"
    },
    {
     "data": {
      "application/vnd.jupyter.widget-view+json": {
       "model_id": "7f296291c700424fb72fe3176d1f3365",
       "version_major": 2,
       "version_minor": 0
      },
      "text/plain": [
       "  0%|          | 0/441 [00:00<?, ?it/s]"
      ]
     },
     "metadata": {},
     "output_type": "display_data"
    },
    {
     "data": {
      "application/vnd.jupyter.widget-view+json": {
       "model_id": "1bbd1a3f19f54261a95c234153460573",
       "version_major": 2,
       "version_minor": 0
      },
      "text/plain": [
       "  0%|          | 0/9261 [00:00<?, ?it/s]"
      ]
     },
     "metadata": {},
     "output_type": "display_data"
    },
    {
     "data": {
      "application/vnd.jupyter.widget-view+json": {
       "model_id": "c6fd2e4dbf7f421a8f6a14c8ce039d8e",
       "version_major": 2,
       "version_minor": 0
      },
      "text/plain": [
       "  0%|          | 0/441 [00:00<?, ?it/s]"
      ]
     },
     "metadata": {},
     "output_type": "display_data"
    },
    {
     "data": {
      "application/vnd.jupyter.widget-view+json": {
       "model_id": "e1ce3de99ced4c2b950a41b6646e193d",
       "version_major": 2,
       "version_minor": 0
      },
      "text/plain": [
       "  0%|          | 0/9261 [00:00<?, ?it/s]"
      ]
     },
     "metadata": {},
     "output_type": "display_data"
    },
    {
     "data": {
      "application/vnd.jupyter.widget-view+json": {
       "model_id": "a5144bd259cc4cef84ad96f619ce625f",
       "version_major": 2,
       "version_minor": 0
      },
      "text/plain": [
       "  0%|          | 0/441 [00:00<?, ?it/s]"
      ]
     },
     "metadata": {},
     "output_type": "display_data"
    },
    {
     "data": {
      "application/vnd.jupyter.widget-view+json": {
       "model_id": "934644d07f484229be02d5f5bfa56c78",
       "version_major": 2,
       "version_minor": 0
      },
      "text/plain": [
       "  0%|          | 0/9261 [00:00<?, ?it/s]"
      ]
     },
     "metadata": {},
     "output_type": "display_data"
    },
    {
     "data": {
      "application/vnd.jupyter.widget-view+json": {
       "model_id": "0d9f8bccb6d2491abd22e63fed4851de",
       "version_major": 2,
       "version_minor": 0
      },
      "text/plain": [
       "  0%|          | 0/441 [00:00<?, ?it/s]"
      ]
     },
     "metadata": {},
     "output_type": "display_data"
    },
    {
     "data": {
      "application/vnd.jupyter.widget-view+json": {
       "model_id": "586bbccd4e854aa3b28491d4bae6f4db",
       "version_major": 2,
       "version_minor": 0
      },
      "text/plain": [
       "  0%|          | 0/9261 [00:00<?, ?it/s]"
      ]
     },
     "metadata": {},
     "output_type": "display_data"
    },
    {
     "data": {
      "application/vnd.jupyter.widget-view+json": {
       "model_id": "925d054586874e019727233304f77172",
       "version_major": 2,
       "version_minor": 0
      },
      "text/plain": [
       "  0%|          | 0/441 [00:00<?, ?it/s]"
      ]
     },
     "metadata": {},
     "output_type": "display_data"
    },
    {
     "data": {
      "application/vnd.jupyter.widget-view+json": {
       "model_id": "b4efa737679a4e98a37c1d073113034e",
       "version_major": 2,
       "version_minor": 0
      },
      "text/plain": [
       "  0%|          | 0/9261 [00:00<?, ?it/s]"
      ]
     },
     "metadata": {},
     "output_type": "display_data"
    },
    {
     "data": {
      "application/vnd.jupyter.widget-view+json": {
       "model_id": "8a3fc5c4e40e4872b3fd1c004ab29d30",
       "version_major": 2,
       "version_minor": 0
      },
      "text/plain": [
       "  0%|          | 0/441 [00:00<?, ?it/s]"
      ]
     },
     "metadata": {},
     "output_type": "display_data"
    },
    {
     "data": {
      "application/vnd.jupyter.widget-view+json": {
       "model_id": "3e7238a26d164d8e93c567ed068905ac",
       "version_major": 2,
       "version_minor": 0
      },
      "text/plain": [
       "  0%|          | 0/9261 [00:00<?, ?it/s]"
      ]
     },
     "metadata": {},
     "output_type": "display_data"
    },
    {
     "data": {
      "application/vnd.jupyter.widget-view+json": {
       "model_id": "1b7f14949d924d8ab259fecafb029323",
       "version_major": 2,
       "version_minor": 0
      },
      "text/plain": [
       "  0%|          | 0/441 [00:00<?, ?it/s]"
      ]
     },
     "metadata": {},
     "output_type": "display_data"
    },
    {
     "data": {
      "application/vnd.jupyter.widget-view+json": {
       "model_id": "5c24b65df8024de69bf5d0d5683be77e",
       "version_major": 2,
       "version_minor": 0
      },
      "text/plain": [
       "  0%|          | 0/9261 [00:00<?, ?it/s]"
      ]
     },
     "metadata": {},
     "output_type": "display_data"
    },
    {
     "data": {
      "application/vnd.jupyter.widget-view+json": {
       "model_id": "70eb10221de54bc19bbeb9c8abb19213",
       "version_major": 2,
       "version_minor": 0
      },
      "text/plain": [
       "  0%|          | 0/441 [00:00<?, ?it/s]"
      ]
     },
     "metadata": {},
     "output_type": "display_data"
    },
    {
     "data": {
      "application/vnd.jupyter.widget-view+json": {
       "model_id": "42d2782f470947bb97389dedf88867c8",
       "version_major": 2,
       "version_minor": 0
      },
      "text/plain": [
       "  0%|          | 0/9261 [00:00<?, ?it/s]"
      ]
     },
     "metadata": {},
     "output_type": "display_data"
    },
    {
     "data": {
      "application/vnd.jupyter.widget-view+json": {
       "model_id": "3dd0d2922bf6467b8967746deb5fe647",
       "version_major": 2,
       "version_minor": 0
      },
      "text/plain": [
       "  0%|          | 0/441 [00:00<?, ?it/s]"
      ]
     },
     "metadata": {},
     "output_type": "display_data"
    },
    {
     "data": {
      "application/vnd.jupyter.widget-view+json": {
       "model_id": "075af089243341139aa87ff9424aa925",
       "version_major": 2,
       "version_minor": 0
      },
      "text/plain": [
       "  0%|          | 0/9261 [00:00<?, ?it/s]"
      ]
     },
     "metadata": {},
     "output_type": "display_data"
    },
    {
     "data": {
      "application/vnd.jupyter.widget-view+json": {
       "model_id": "d2aba11ded044eea93cb9e98a6241918",
       "version_major": 2,
       "version_minor": 0
      },
      "text/plain": [
       "  0%|          | 0/441 [00:00<?, ?it/s]"
      ]
     },
     "metadata": {},
     "output_type": "display_data"
    },
    {
     "data": {
      "application/vnd.jupyter.widget-view+json": {
       "model_id": "c3dad9f90014440f81108527f10cdeec",
       "version_major": 2,
       "version_minor": 0
      },
      "text/plain": [
       "  0%|          | 0/9261 [00:00<?, ?it/s]"
      ]
     },
     "metadata": {},
     "output_type": "display_data"
    },
    {
     "data": {
      "application/vnd.jupyter.widget-view+json": {
       "model_id": "994cbed560da4b2da1e252e32af4b98c",
       "version_major": 2,
       "version_minor": 0
      },
      "text/plain": [
       "  0%|          | 0/441 [00:00<?, ?it/s]"
      ]
     },
     "metadata": {},
     "output_type": "display_data"
    },
    {
     "data": {
      "application/vnd.jupyter.widget-view+json": {
       "model_id": "736fee3dfb5044eaa19d6f3dc311b08b",
       "version_major": 2,
       "version_minor": 0
      },
      "text/plain": [
       "  0%|          | 0/9261 [00:00<?, ?it/s]"
      ]
     },
     "metadata": {},
     "output_type": "display_data"
    },
    {
     "data": {
      "application/vnd.jupyter.widget-view+json": {
       "model_id": "8a7054e11d264f7f90cda92f1b4b1166",
       "version_major": 2,
       "version_minor": 0
      },
      "text/plain": [
       "  0%|          | 0/441 [00:00<?, ?it/s]"
      ]
     },
     "metadata": {},
     "output_type": "display_data"
    },
    {
     "data": {
      "application/vnd.jupyter.widget-view+json": {
       "model_id": "bc7352ed3ff340429c3a7b2178b1b5b5",
       "version_major": 2,
       "version_minor": 0
      },
      "text/plain": [
       "  0%|          | 0/9261 [00:00<?, ?it/s]"
      ]
     },
     "metadata": {},
     "output_type": "display_data"
    },
    {
     "data": {
      "application/vnd.jupyter.widget-view+json": {
       "model_id": "66f398e32bf8476e8db6f7cf185451e6",
       "version_major": 2,
       "version_minor": 0
      },
      "text/plain": [
       "  0%|          | 0/441 [00:00<?, ?it/s]"
      ]
     },
     "metadata": {},
     "output_type": "display_data"
    },
    {
     "data": {
      "application/vnd.jupyter.widget-view+json": {
       "model_id": "d1eb8a436a274a4e95e7630001f642ae",
       "version_major": 2,
       "version_minor": 0
      },
      "text/plain": [
       "  0%|          | 0/9261 [00:00<?, ?it/s]"
      ]
     },
     "metadata": {},
     "output_type": "display_data"
    },
    {
     "data": {
      "application/vnd.jupyter.widget-view+json": {
       "model_id": "02a56fdf08f940a68cad58579c629662",
       "version_major": 2,
       "version_minor": 0
      },
      "text/plain": [
       "  0%|          | 0/441 [00:00<?, ?it/s]"
      ]
     },
     "metadata": {},
     "output_type": "display_data"
    }
   ],
   "source": [
    "# First, make the grid thinner\n",
    "thinner_step = np.pi/20\n",
    "gamma_values = np.arange(0, np.pi/2*1.1, np.pi/100)\n",
    "maximin_A = []\n",
    "\n",
    "for g in gamma_values:\n",
    "    PrisonersDilemma_gamma = Quantum2x2Game(payoff_matrix=payoff_matrix_pd, gamma=g, grid_step=thinner_step)\n",
    "    PrisonersDilemma_gamma.update_parameters(phi=[0], player=\"B\")\n",
    "    maximin_A.append( PrisonersDilemma_gamma.compute_guaranteed_payoffs(\"A\").max()[\"utility\"] )"
   ]
  },
  {
   "cell_type": "code",
   "execution_count": 29,
   "metadata": {},
   "outputs": [
    {
     "data": {
      "image/png": "[encoded data removed]",
      "text/plain": [
       "<Figure size 576x360 with 1 Axes>"
      ]
     },
     "metadata": {},
     "output_type": "display_data"
    }
   ],
   "source": [
    "fig = plt.figure(figsize=(8,5))\n",
    "plt.suptitle(\"Maximin of the quantum player\", fontsize=20, y=1)\n",
    "plt.title(\"as function of the game's entanglement\", fontsize=20)\n",
    "plt.xlabel(r'$\\gamma$', fontsize=20)\n",
    "plt.ylabel(\"m\", fontsize=18, rotation=0)\n",
    "\n",
    "plt.plot(gamma_values, maximin_A, \n",
    "         label=r'$\\max_{\\hat{U}_A\\in SU(2)}\\min_{\\hat{U}_B\\in\\{\\hat{C},\\hat{D}\\}} payoff_A\\left(\\hat{U}_A, \\hat{U}_B\\right)$', \n",
    "         color=\"blue\")\n",
    "\n",
    "plt.gca().annotate(r'$\\gamma_{th}$', xy=(0.464,1), fontsize=20, xytext=(0,1.5),\n",
    "                  arrowprops=dict(arrowstyle=\"fancy\", color=\"red\", shrinkA=10, shrinkB=10,\n",
    "                                 connectionstyle=\"angle3,angleA=0,angleB=90\"))\n",
    "\n",
    "plt.grid()\n",
    "plt.legend(fontsize=15);"
   ]
  },
  {
   "cell_type": "markdown",
   "metadata": {},
   "source": [
    "# Quantum Battle of Sexes"
   ]
  },
  {
   "cell_type": "markdown",
   "metadata": {},
   "source": [
    "The situation is quite similar to the Prisoners' Dilemma; we just need to specify a new payoff matrix."
   ]
  },
  {
   "cell_type": "markdown",
   "metadata": {},
   "source": [
    "$$\n",
    "\\text{Battle of Sexes Payoffs} = \\begin{pmatrix}\\alpha,\\beta & \\gamma,\\gamma\\\\ \\gamma,\\gamma & \\beta,\\alpha\\end{pmatrix}\n",
    "$$\n",
    "with the condition $\\alpha\\gt\\beta\\gt\\gamma$."
   ]
  },
  {
   "cell_type": "code",
   "execution_count": 30,
   "metadata": {},
   "outputs": [],
   "source": [
    "# Specify the payoff matrix (with fixed values for alpha, beta and gamma)\n",
    "payoff_matrix_bs = {'A' : np.array([[2,0],[0,1]]), 'B' : np.array([[1,0],[0,2]]) }"
   ]
  },
  {
   "cell_type": "markdown",
   "metadata": {},
   "source": [
    "Actually, this time we have no more a strategy of \"cooperation\" and a strategy of \"defection\": we have just two people that want to choose different movies but, at the same time, they don't want to go alone. So the new set of pure strategies is $\\{\\hat{R},\\hat{S}\\}$, where \"R\" stands for the romance film, and $S$ for the sci-fi one."
   ]
  },
  {
   "cell_type": "markdown",
   "metadata": {},
   "source": [
    "Again, the first step is reformulating the pure strategies in term of quantum operators.\n",
    "\n",
    "$$\n",
    "\\hat{R} = \\hat{C} = \\hat{U}(0,0) = \\begin{pmatrix}1&0\\\\0&1\\end{pmatrix} \\qquad\n",
    "\\hat{S} = \\hat{D} = \\hat{U}(\\pi,0) = \\begin{pmatrix}0&1\\\\-1&0\\end{pmatrix}\n",
    "$$"
   ]
  },
  {
   "cell_type": "markdown",
   "metadata": {},
   "source": [
    "* Study first the non entangled game: $\\gamma=0$"
   ]
  },
  {
   "cell_type": "code",
   "execution_count": 31,
   "metadata": {},
   "outputs": [],
   "source": [
    "# Construct the game\n",
    "BattleOfSexes_g0 = Quantum2x2Game(payoff_matrix=payoff_matrix_bs, gamma=0)"
   ]
  },
  {
   "cell_type": "code",
   "execution_count": 32,
   "metadata": {
    "scrolled": true
   },
   "outputs": [
    {
     "name": "stdout",
     "output_type": "stream",
     "text": [
      "Constructing the complete grid of payoffs...\n"
     ]
    },
    {
     "data": {
      "application/vnd.jupyter.widget-view+json": {
       "model_id": "772c4f81878448d79d9d6fa6ebb777ab",
       "version_major": 2,
       "version_minor": 0
      },
      "text/plain": [
       "  0%|          | 0/14641 [00:00<?, ?it/s]"
      ]
     },
     "metadata": {},
     "output_type": "display_data"
    },
    {
     "name": "stdout",
     "output_type": "stream",
     "text": [
      "Computing the best responses for the players...\n"
     ]
    },
    {
     "data": {
      "application/vnd.jupyter.widget-view+json": {
       "model_id": "8a816ee896ec4d4da917988f08664cbc",
       "version_major": 2,
       "version_minor": 0
      },
      "text/plain": [
       "  0%|          | 0/14641 [00:00<?, ?it/s]"
      ]
     },
     "metadata": {},
     "output_type": "display_data"
    },
    {
     "data": {
      "text/html": [
       "<div>\n",
       "<style scoped>\n",
       "    .dataframe tbody tr th:only-of-type {\n",
       "        vertical-align: middle;\n",
       "    }\n",
       "\n",
       "    .dataframe tbody tr th {\n",
       "        vertical-align: top;\n",
       "    }\n",
       "\n",
       "    .dataframe thead th {\n",
       "        text-align: right;\n",
       "    }\n",
       "</style>\n",
       "<table border=\"1\" class=\"dataframe\">\n",
       "  <thead>\n",
       "    <tr style=\"text-align: right;\">\n",
       "      <th></th>\n",
       "      <th>thetaA</th>\n",
       "      <th>phiA</th>\n",
       "      <th>thetaB</th>\n",
       "      <th>phiB</th>\n",
       "      <th>utilityA</th>\n",
       "      <th>utilityB</th>\n",
       "      <th>Best_responses_A</th>\n",
       "      <th>Best_responses_B</th>\n",
       "    </tr>\n",
       "  </thead>\n",
       "  <tbody>\n",
       "    <tr>\n",
       "      <th>0</th>\n",
       "      <td>0.000000</td>\n",
       "      <td>0.000000</td>\n",
       "      <td>0.000000</td>\n",
       "      <td>0.000000</td>\n",
       "      <td>2.0</td>\n",
       "      <td>1.0</td>\n",
       "      <td>True</td>\n",
       "      <td>True</td>\n",
       "    </tr>\n",
       "    <tr>\n",
       "      <th>1</th>\n",
       "      <td>0.000000</td>\n",
       "      <td>0.000000</td>\n",
       "      <td>0.000000</td>\n",
       "      <td>0.157080</td>\n",
       "      <td>2.0</td>\n",
       "      <td>1.0</td>\n",
       "      <td>True</td>\n",
       "      <td>True</td>\n",
       "    </tr>\n",
       "    <tr>\n",
       "      <th>2</th>\n",
       "      <td>0.000000</td>\n",
       "      <td>0.000000</td>\n",
       "      <td>0.000000</td>\n",
       "      <td>0.314159</td>\n",
       "      <td>2.0</td>\n",
       "      <td>1.0</td>\n",
       "      <td>True</td>\n",
       "      <td>True</td>\n",
       "    </tr>\n",
       "    <tr>\n",
       "      <th>3</th>\n",
       "      <td>0.000000</td>\n",
       "      <td>0.000000</td>\n",
       "      <td>0.000000</td>\n",
       "      <td>0.471239</td>\n",
       "      <td>2.0</td>\n",
       "      <td>1.0</td>\n",
       "      <td>True</td>\n",
       "      <td>True</td>\n",
       "    </tr>\n",
       "    <tr>\n",
       "      <th>4</th>\n",
       "      <td>0.000000</td>\n",
       "      <td>0.000000</td>\n",
       "      <td>0.000000</td>\n",
       "      <td>0.628319</td>\n",
       "      <td>2.0</td>\n",
       "      <td>1.0</td>\n",
       "      <td>True</td>\n",
       "      <td>True</td>\n",
       "    </tr>\n",
       "    <tr>\n",
       "      <th>...</th>\n",
       "      <td>...</td>\n",
       "      <td>...</td>\n",
       "      <td>...</td>\n",
       "      <td>...</td>\n",
       "      <td>...</td>\n",
       "      <td>...</td>\n",
       "      <td>...</td>\n",
       "      <td>...</td>\n",
       "    </tr>\n",
       "    <tr>\n",
       "      <th>14636</th>\n",
       "      <td>3.141593</td>\n",
       "      <td>1.570796</td>\n",
       "      <td>3.141593</td>\n",
       "      <td>0.942478</td>\n",
       "      <td>1.0</td>\n",
       "      <td>2.0</td>\n",
       "      <td>True</td>\n",
       "      <td>True</td>\n",
       "    </tr>\n",
       "    <tr>\n",
       "      <th>14637</th>\n",
       "      <td>3.141593</td>\n",
       "      <td>1.570796</td>\n",
       "      <td>3.141593</td>\n",
       "      <td>1.099557</td>\n",
       "      <td>1.0</td>\n",
       "      <td>2.0</td>\n",
       "      <td>True</td>\n",
       "      <td>True</td>\n",
       "    </tr>\n",
       "    <tr>\n",
       "      <th>14638</th>\n",
       "      <td>3.141593</td>\n",
       "      <td>1.570796</td>\n",
       "      <td>3.141593</td>\n",
       "      <td>1.256637</td>\n",
       "      <td>1.0</td>\n",
       "      <td>2.0</td>\n",
       "      <td>True</td>\n",
       "      <td>True</td>\n",
       "    </tr>\n",
       "    <tr>\n",
       "      <th>14639</th>\n",
       "      <td>3.141593</td>\n",
       "      <td>1.570796</td>\n",
       "      <td>3.141593</td>\n",
       "      <td>1.413717</td>\n",
       "      <td>1.0</td>\n",
       "      <td>2.0</td>\n",
       "      <td>True</td>\n",
       "      <td>True</td>\n",
       "    </tr>\n",
       "    <tr>\n",
       "      <th>14640</th>\n",
       "      <td>3.141593</td>\n",
       "      <td>1.570796</td>\n",
       "      <td>3.141593</td>\n",
       "      <td>1.570796</td>\n",
       "      <td>1.0</td>\n",
       "      <td>2.0</td>\n",
       "      <td>True</td>\n",
       "      <td>True</td>\n",
       "    </tr>\n",
       "  </tbody>\n",
       "</table>\n",
       "<p>242 rows × 8 columns</p>\n",
       "</div>"
      ],
      "text/plain": [
       "         thetaA      phiA    thetaB      phiB  utilityA  utilityB  \\\n",
       "0      0.000000  0.000000  0.000000  0.000000       2.0       1.0   \n",
       "1      0.000000  0.000000  0.000000  0.157080       2.0       1.0   \n",
       "2      0.000000  0.000000  0.000000  0.314159       2.0       1.0   \n",
       "3      0.000000  0.000000  0.000000  0.471239       2.0       1.0   \n",
       "4      0.000000  0.000000  0.000000  0.628319       2.0       1.0   \n",
       "...         ...       ...       ...       ...       ...       ...   \n",
       "14636  3.141593  1.570796  3.141593  0.942478       1.0       2.0   \n",
       "14637  3.141593  1.570796  3.141593  1.099557       1.0       2.0   \n",
       "14638  3.141593  1.570796  3.141593  1.256637       1.0       2.0   \n",
       "14639  3.141593  1.570796  3.141593  1.413717       1.0       2.0   \n",
       "14640  3.141593  1.570796  3.141593  1.570796       1.0       2.0   \n",
       "\n",
       "      Best_responses_A Best_responses_B  \n",
       "0                 True             True  \n",
       "1                 True             True  \n",
       "2                 True             True  \n",
       "3                 True             True  \n",
       "4                 True             True  \n",
       "...                ...              ...  \n",
       "14636             True             True  \n",
       "14637             True             True  \n",
       "14638             True             True  \n",
       "14639             True             True  \n",
       "14640             True             True  \n",
       "\n",
       "[242 rows x 8 columns]"
      ]
     },
     "metadata": {},
     "output_type": "display_data"
    }
   ],
   "source": [
    "NE_qbs_0 = BattleOfSexes_g0.compute_Nash_Equilibrium()\n",
    "display(NE_qbs_0)"
   ]
  },
  {
   "cell_type": "markdown",
   "metadata": {},
   "source": [
    "Analyzing the dataframe, we clearly see that the only strategies that appear to be Nash Equilibria are of the type $\\hat{U}(0,\\phi)$, $\\hat{U}(\\pi,\\phi)$, that correspond, as expected, to the classical pure strategies $\\hat{R}$ and $\\hat{S}$, respectively. <br>\n",
    "So the NE of the non-entangled game are: $\\{\\hat{R}\\hat{R}\\}$ and $\\{\\hat{S}\\hat{S}\\}$. <br>\n",
    "More precisely we have infinite equilibria: $\\{\\hat{U}_A(0,\\phi),\\hat{U}_B(0,\\phi)\\}$ and $\\{\\hat{U}_A(\\pi,\\phi),\\hat{U}_B(\\pi,\\phi)\\}$. "
   ]
  },
  {
   "cell_type": "markdown",
   "metadata": {},
   "source": [
    "* And now the maximally entangled case: $\\gamma=\\pi/2$"
   ]
  },
  {
   "cell_type": "code",
   "execution_count": 33,
   "metadata": {},
   "outputs": [],
   "source": [
    "# Construct the game\n",
    "BattleOfSexes_gmax = Quantum2x2Game(payoff_matrix=payoff_matrix_bs, gamma=np.pi/2)"
   ]
  },
  {
   "cell_type": "code",
   "execution_count": 34,
   "metadata": {},
   "outputs": [
    {
     "name": "stdout",
     "output_type": "stream",
     "text": [
      "Constructing the complete grid of payoffs...\n"
     ]
    },
    {
     "data": {
      "application/vnd.jupyter.widget-view+json": {
       "model_id": "c68a37e81fe44a46ac487849f153b257",
       "version_major": 2,
       "version_minor": 0
      },
      "text/plain": [
       "  0%|          | 0/14641 [00:00<?, ?it/s]"
      ]
     },
     "metadata": {},
     "output_type": "display_data"
    },
    {
     "name": "stdout",
     "output_type": "stream",
     "text": [
      "Computing the best responses for the players...\n"
     ]
    },
    {
     "data": {
      "application/vnd.jupyter.widget-view+json": {
       "model_id": "3c8fb2a2a4c5497eb9ae3b77fe91df35",
       "version_major": 2,
       "version_minor": 0
      },
      "text/plain": [
       "  0%|          | 0/14641 [00:00<?, ?it/s]"
      ]
     },
     "metadata": {},
     "output_type": "display_data"
    },
    {
     "data": {
      "text/html": [
       "<div>\n",
       "<style scoped>\n",
       "    .dataframe tbody tr th:only-of-type {\n",
       "        vertical-align: middle;\n",
       "    }\n",
       "\n",
       "    .dataframe tbody tr th {\n",
       "        vertical-align: top;\n",
       "    }\n",
       "\n",
       "    .dataframe thead th {\n",
       "        text-align: right;\n",
       "    }\n",
       "</style>\n",
       "<table border=\"1\" class=\"dataframe\">\n",
       "  <thead>\n",
       "    <tr style=\"text-align: right;\">\n",
       "      <th></th>\n",
       "      <th>thetaA</th>\n",
       "      <th>phiA</th>\n",
       "      <th>thetaB</th>\n",
       "      <th>phiB</th>\n",
       "      <th>utilityA</th>\n",
       "      <th>utilityB</th>\n",
       "      <th>Best_responses_A</th>\n",
       "      <th>Best_responses_B</th>\n",
       "    </tr>\n",
       "  </thead>\n",
       "  <tbody>\n",
       "    <tr>\n",
       "      <th>13420</th>\n",
       "      <td>3.141593</td>\n",
       "      <td>0.000000</td>\n",
       "      <td>3.141593</td>\n",
       "      <td>0.000000</td>\n",
       "      <td>1.0</td>\n",
       "      <td>2.0</td>\n",
       "      <td>True</td>\n",
       "      <td>True</td>\n",
       "    </tr>\n",
       "    <tr>\n",
       "      <th>13421</th>\n",
       "      <td>3.141593</td>\n",
       "      <td>0.000000</td>\n",
       "      <td>3.141593</td>\n",
       "      <td>0.157080</td>\n",
       "      <td>1.0</td>\n",
       "      <td>2.0</td>\n",
       "      <td>True</td>\n",
       "      <td>True</td>\n",
       "    </tr>\n",
       "    <tr>\n",
       "      <th>13422</th>\n",
       "      <td>3.141593</td>\n",
       "      <td>0.000000</td>\n",
       "      <td>3.141593</td>\n",
       "      <td>0.314159</td>\n",
       "      <td>1.0</td>\n",
       "      <td>2.0</td>\n",
       "      <td>True</td>\n",
       "      <td>True</td>\n",
       "    </tr>\n",
       "    <tr>\n",
       "      <th>13423</th>\n",
       "      <td>3.141593</td>\n",
       "      <td>0.000000</td>\n",
       "      <td>3.141593</td>\n",
       "      <td>0.471239</td>\n",
       "      <td>1.0</td>\n",
       "      <td>2.0</td>\n",
       "      <td>True</td>\n",
       "      <td>True</td>\n",
       "    </tr>\n",
       "    <tr>\n",
       "      <th>13424</th>\n",
       "      <td>3.141593</td>\n",
       "      <td>0.000000</td>\n",
       "      <td>3.141593</td>\n",
       "      <td>0.628319</td>\n",
       "      <td>1.0</td>\n",
       "      <td>2.0</td>\n",
       "      <td>True</td>\n",
       "      <td>True</td>\n",
       "    </tr>\n",
       "    <tr>\n",
       "      <th>...</th>\n",
       "      <td>...</td>\n",
       "      <td>...</td>\n",
       "      <td>...</td>\n",
       "      <td>...</td>\n",
       "      <td>...</td>\n",
       "      <td>...</td>\n",
       "      <td>...</td>\n",
       "      <td>...</td>\n",
       "    </tr>\n",
       "    <tr>\n",
       "      <th>14636</th>\n",
       "      <td>3.141593</td>\n",
       "      <td>1.570796</td>\n",
       "      <td>3.141593</td>\n",
       "      <td>0.942478</td>\n",
       "      <td>1.0</td>\n",
       "      <td>2.0</td>\n",
       "      <td>True</td>\n",
       "      <td>True</td>\n",
       "    </tr>\n",
       "    <tr>\n",
       "      <th>14637</th>\n",
       "      <td>3.141593</td>\n",
       "      <td>1.570796</td>\n",
       "      <td>3.141593</td>\n",
       "      <td>1.099557</td>\n",
       "      <td>1.0</td>\n",
       "      <td>2.0</td>\n",
       "      <td>True</td>\n",
       "      <td>True</td>\n",
       "    </tr>\n",
       "    <tr>\n",
       "      <th>14638</th>\n",
       "      <td>3.141593</td>\n",
       "      <td>1.570796</td>\n",
       "      <td>3.141593</td>\n",
       "      <td>1.256637</td>\n",
       "      <td>1.0</td>\n",
       "      <td>2.0</td>\n",
       "      <td>True</td>\n",
       "      <td>True</td>\n",
       "    </tr>\n",
       "    <tr>\n",
       "      <th>14639</th>\n",
       "      <td>3.141593</td>\n",
       "      <td>1.570796</td>\n",
       "      <td>3.141593</td>\n",
       "      <td>1.413717</td>\n",
       "      <td>1.0</td>\n",
       "      <td>2.0</td>\n",
       "      <td>True</td>\n",
       "      <td>True</td>\n",
       "    </tr>\n",
       "    <tr>\n",
       "      <th>14640</th>\n",
       "      <td>3.141593</td>\n",
       "      <td>1.570796</td>\n",
       "      <td>3.141593</td>\n",
       "      <td>1.570796</td>\n",
       "      <td>1.0</td>\n",
       "      <td>2.0</td>\n",
       "      <td>True</td>\n",
       "      <td>True</td>\n",
       "    </tr>\n",
       "  </tbody>\n",
       "</table>\n",
       "<p>121 rows × 8 columns</p>\n",
       "</div>"
      ],
      "text/plain": [
       "         thetaA      phiA    thetaB      phiB  utilityA  utilityB  \\\n",
       "13420  3.141593  0.000000  3.141593  0.000000       1.0       2.0   \n",
       "13421  3.141593  0.000000  3.141593  0.157080       1.0       2.0   \n",
       "13422  3.141593  0.000000  3.141593  0.314159       1.0       2.0   \n",
       "13423  3.141593  0.000000  3.141593  0.471239       1.0       2.0   \n",
       "13424  3.141593  0.000000  3.141593  0.628319       1.0       2.0   \n",
       "...         ...       ...       ...       ...       ...       ...   \n",
       "14636  3.141593  1.570796  3.141593  0.942478       1.0       2.0   \n",
       "14637  3.141593  1.570796  3.141593  1.099557       1.0       2.0   \n",
       "14638  3.141593  1.570796  3.141593  1.256637       1.0       2.0   \n",
       "14639  3.141593  1.570796  3.141593  1.413717       1.0       2.0   \n",
       "14640  3.141593  1.570796  3.141593  1.570796       1.0       2.0   \n",
       "\n",
       "      Best_responses_A Best_responses_B  \n",
       "13420             True             True  \n",
       "13421             True             True  \n",
       "13422             True             True  \n",
       "13423             True             True  \n",
       "13424             True             True  \n",
       "...                ...              ...  \n",
       "14636             True             True  \n",
       "14637             True             True  \n",
       "14638             True             True  \n",
       "14639             True             True  \n",
       "14640             True             True  \n",
       "\n",
       "[121 rows x 8 columns]"
      ]
     },
     "metadata": {},
     "output_type": "display_data"
    }
   ],
   "source": [
    "NE_qbs_max = BattleOfSexes_gmax.compute_Nash_Equilibrium()\n",
    "display(NE_qbs_max)"
   ]
  },
  {
   "cell_type": "markdown",
   "metadata": {},
   "source": [
    "Incredible! From 2 pure strategy Nash Equilibria we end with just 1! <br>\n",
    "Apparently, the only NE that survive the entanglement is the one in which both players select the strategy $\\hat{U}(\\pi,\\phi)$, that basically coincide with playing $\\{\\hat{S}\\hat{S}\\}$!"
   ]
  },
  {
   "cell_type": "markdown",
   "metadata": {},
   "source": [
    "In reality the situation is much more tricky than the one represented, becuase the battle of sexes is characterized by several more NE, in both pure and mixed strategies, that have been found analyzing the problem analitically. The fact is that, consulting several papers on the internet, several quantization models have been proposed, discussed and some of them also been contested, one end up with different, often also in contrast results. Up to now I wasn't able to find a \"definitive\" model, universally accepted, to quantize the Battle of Sexes, mainly because of its \"internal asymmetry\", that is also the feature that makes the problem so relevant."
   ]
  },
  {
   "cell_type": "code",
   "execution_count": null,
   "metadata": {},
   "outputs": [],
   "source": []
  },
  {
   "cell_type": "markdown",
   "metadata": {},
   "source": [
    "To conclude, we can be quite satisfied of the simulation done, especially for the part of the Prisoners' Dilemma, since all the results were consistent with the theoretical analysis and provided a further confirmation of them. <br>\n",
    "It has been very interesting to study game theory also from this new unusual point of view, especially because of the very large flexibility that quantum games provide, and I'm sure that, once the necessary technology will be publicy available, the interest to this discipline will explode once again. <br> \n",
    "\n",
    "Possible further improvements:\n",
    "* completing the analysis of the Battle of Sexes\n",
    "* improve the accuracy of the discretization\n",
    "* implementation of an efficient way to handle mixed strategies"
   ]
  }
 ],
 "metadata": {
  "kernelspec": {
   "display_name": "Python 3",
   "language": "python",
   "name": "python3"
  },
  "language_info": {
   "codemirror_mode": {
    "name": "ipython",
    "version": 3
   },
   "file_extension": ".py",
   "mimetype": "text/x-python",
   "name": "python",
   "nbconvert_exporter": "python",
   "pygments_lexer": "ipython3",
   "version": "3.7.7"
  }
 },
 "nbformat": 4,
 "nbformat_minor": 4
}
