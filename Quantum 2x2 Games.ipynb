{
 "cells": [
  {
   "cell_type": "markdown",
   "metadata": {},
   "source": [
    "# Quantum 2x2 Games"
   ]
  },
  {
   "cell_type": "markdown",
   "metadata": {},
   "source": [
    "This notebook has been developed in order to formulate and analyze the quantum version of two canonical Game Theory problems: Prisoners' Dilemma and Battle of Sexes."
   ]
  },
  {
   "cell_type": "code",
   "execution_count": 42,
   "metadata": {},
   "outputs": [],
   "source": [
    "import numpy as np\n",
    "import cmath\n",
    "from scipy import linalg\n",
    "import matplotlib.pyplot as plt\n",
    "import pandas as pd"
   ]
  },
  {
   "cell_type": "markdown",
   "metadata": {},
   "source": [
    "The action space of a quantum 2x2 game is SU(2), i.e. the Hilbert space of unitary, trace-preserving 2x2 matrices."
   ]
  },
  {
   "cell_type": "markdown",
   "metadata": {},
   "source": [
    "A generic matrix in SU(2) can be written as a function of 2 parameters: <br>\n",
    "\n",
    "$$\n",
    "\\hat{U}(\\theta,\\phi) = \\begin{pmatrix}\n",
    "e^{i\\phi}\\cos\\theta/2 & \\sin\\theta/2 \\\\ -\\sin\\theta/2 & e^{-i\\phi}\\cos\\theta/2\n",
    "\\end{pmatrix} \\quad \\theta\\in[0,\\pi], \\phi\\in[0,\\frac{\\pi}{2}] \n",
    "$$"
   ]
  },
  {
   "cell_type": "markdown",
   "metadata": {},
   "source": [
    "and so it is possible to write a function that construct a generic quantum strategy accessible by one of the players."
   ]
  },
  {
   "cell_type": "code",
   "execution_count": 2,
   "metadata": {},
   "outputs": [],
   "source": [
    "def quantum_strategy(theta, phi):\n",
    "    \n",
    "    qs = np.zeros([2,2], dtype=complex)\n",
    "    qs[0,0] = cmath.exp(1j*phi)*np.cos(theta/2)\n",
    "    qs[0,1] = np.sin(theta/2)\n",
    "    qs[1,0] = -np.sin(theta/2)\n",
    "    qs[1,1] = cmath.exp(-1j*phi)*np.cos(theta/2)\n",
    "    \n",
    "    return qs"
   ]
  },
  {
   "cell_type": "markdown",
   "metadata": {},
   "source": [
    "Also the original pure strategies C and D can be written in this way:\n",
    "\n",
    "$$\n",
    "\\hat{C} = \\hat{U}(0,0) = \\begin{pmatrix}1&0\\\\0&1\\end{pmatrix} \\qquad\n",
    "\\hat{D} = \\hat{U}(\\pi,0) = \\begin{pmatrix}0&1\\\\-1&0\\end{pmatrix}\n",
    "$$"
   ]
  },
  {
   "cell_type": "code",
   "execution_count": 3,
   "metadata": {},
   "outputs": [],
   "source": [
    "C = quantum_strategy(0, 0)\n",
    "D = quantum_strategy(np.pi, 0)"
   ]
  },
  {
   "cell_type": "markdown",
   "metadata": {},
   "source": [
    "Usually, in these kind of games, each player has access to two pure strategies, C for cooperating and D for defecting, and to the corresponding payoff bymatrix:\n",
    "\n",
    "$$\n",
    "\\begin{pmatrix}\n",
    "P_{CC,A},P_{CC,B} & P_{CD,A},P_{CD,B} \\\\ P_{DC,A},P_{DC,B} & P_{DD,A},P_{DD,B} \\\\\n",
    "\\end{pmatrix}\n",
    "$$"
   ]
  },
  {
   "cell_type": "markdown",
   "metadata": {},
   "source": [
    "The states of the (quantum) system are defined, as said, in SU(2), and are expressed as column vectors with four elements, written in the basis given by {|CC>, |CD>, |DC>, |DD>}, i.e. the computational basis (for example, |CC> corresponds to the vector (1,0,0,0), and so on)."
   ]
  },
  {
   "cell_type": "markdown",
   "metadata": {},
   "source": [
    "In order to construct an effective quantum game, we need to provide also some kind of entanglement between the various states, and this will be possible introducing an operator that depends on a \"entanglement measure\"\n",
    "\n",
    "$$\n",
    "\\hat{J} = \\exp\\left(-i\\gamma\\hat{D}\\otimes\\hat{D}/2\\right) \\qquad \\gamma\\in[0,\\frac{\\pi}{2}]\n",
    "$$"
   ]
  },
  {
   "cell_type": "markdown",
   "metadata": {},
   "source": [
    "such that the final state of the system, after the application of the actions chosen by the players, but before the effective measure of the qubits, will be given by:\n",
    "\n",
    "$$\n",
    "|\\psi_f> = \\hat{J}^\\dagger\\left(\\hat{U}_A\\otimes\\hat{U}_B\\right)\\hat{J}|CC>\n",
    "$$"
   ]
  },
  {
   "cell_type": "code",
   "execution_count": 4,
   "metadata": {},
   "outputs": [],
   "source": [
    "def compute_final_state( strategyA, strategyB, gamma ):\n",
    "    \n",
    "    # Construct matrix J\n",
    "    J = linalg.expm(-1j*gamma*np.kron(C,C)/2)\n",
    "    # J^+ is just J's adjoint\n",
    "    J1 = J.conjugate().transpose()\n",
    "    # UA x UB is the kronecker product between the two quantum strategies\n",
    "    UAB = np.kron(strategyA, strategyB)\n",
    "    \n",
    "    # Apply the operators one by one\n",
    "    psi_f = np.matmul(J,np.array([1,0,0,0]))\n",
    "    psi_f = np.matmul(UAB, psi_f)\n",
    "    psi_f = np.matmul(J1, psi_f)\n",
    "    \n",
    "    return psi_f"
   ]
  },
  {
   "cell_type": "markdown",
   "metadata": {},
   "source": [
    "In the end, since the only way to find the best set of strategies to follow is to check the payoff, the formula to compute the expected utility for player i is:\n",
    "\n",
    "$$\n",
    "<i> = P_{CC,i}\\cdot|<CC|\\psi_f>|^2 + P_{CD,i}\\cdot|<CD|\\psi_f>|^2 + P_{DC,i}\\cdot|<DC|\\psi_f>|^2 + P_{DD,i}\\cdot|<DD|\\psi_f>|^2\n",
    "$$"
   ]
  },
  {
   "cell_type": "code",
   "execution_count": 5,
   "metadata": {},
   "outputs": [],
   "source": [
    "def expected_payoffs( state, payoff_bymatrix ):\n",
    "    \n",
    "    payoffA, payoffB = 0, 0\n",
    "    \n",
    "    for i in range(2):\n",
    "        for j in range(2):\n",
    "            payoffA += payoff_bymatrix['A'][i,j]*(abs(state[2*i+j])**2)\n",
    "            payoffB += payoff_bymatrix['B'][i,j]*(abs(state[2*i+j])**2)\n",
    "    \n",
    "    return [payoffA, payoffB]"
   ]
  },
  {
   "cell_type": "markdown",
   "metadata": {},
   "source": [
    "Just to check the correctness of our code, we can rely on the fact that selecting $\\gamma=0$ we should obtain the original classical game! <br>\n",
    "So, if for example, we ask the two players to choose the joint strategy {DC}, then as final state we should get |DC> in the computational basis, that is (0,0,1,0)."
   ]
  },
  {
   "cell_type": "code",
   "execution_count": 6,
   "metadata": {},
   "outputs": [
    {
     "name": "stderr",
     "output_type": "stream",
     "text": [
      "/home/mattia/anaconda3/lib/python3.7/site-packages/ipykernel_launcher.py:1: ComplexWarning: Casting complex values to real discards the imaginary part\n",
      "  \"\"\"Entry point for launching an IPython kernel.\n"
     ]
    },
    {
     "data": {
      "text/plain": [
       "array([ 0,  0, -1,  0])"
      ]
     },
     "execution_count": 6,
     "metadata": {},
     "output_type": "execute_result"
    }
   ],
   "source": [
    "compute_final_state( strategyA=D, strategyB=C, gamma=0 ).astype(int)"
   ]
  },
  {
   "cell_type": "markdown",
   "metadata": {},
   "source": [
    "Note: the -  sign in the coefficient is irrelevant because what matters is its square module, i.e. $|-1|^2$, that represents the probability of finding the system in the state CD."
   ]
  },
  {
   "cell_type": "markdown",
   "metadata": {},
   "source": [
    "So everything seems working fine!"
   ]
  },
  {
   "cell_type": "markdown",
   "metadata": {},
   "source": [
    "# Quantum Prisoners' Dilemma"
   ]
  },
  {
   "cell_type": "markdown",
   "metadata": {},
   "source": [
    "The first problem that we are going to simulate as a quantum system is the traditional Prisoners' Dilemma."
   ]
  },
  {
   "cell_type": "code",
   "execution_count": 7,
   "metadata": {},
   "outputs": [],
   "source": [
    "# Specify the payoff matrix\n",
    "payoff_matrix_pd = {'A' : np.array([[3,0],[5,1]]), 'B' : np.array([[3,5],[0,1]]) }"
   ]
  },
  {
   "cell_type": "code",
   "execution_count": 8,
   "metadata": {
    "scrolled": true
   },
   "outputs": [],
   "source": [
    "fs = compute_final_state( strategyA=D, strategyB=C, gamma=0 )"
   ]
  },
  {
   "cell_type": "code",
   "execution_count": 9,
   "metadata": {},
   "outputs": [
    {
     "name": "stdout",
     "output_type": "stream",
     "text": [
      "[ 6.123234e-17+0.j  0.000000e+00+0.j -1.000000e+00+0.j  0.000000e+00+0.j]\n"
     ]
    },
    {
     "data": {
      "text/plain": [
       "[5.0, 1.1248198369963932e-32]"
      ]
     },
     "execution_count": 9,
     "metadata": {},
     "output_type": "execute_result"
    }
   ],
   "source": [
    "print(fs)\n",
    "expected_payoffs( fs, payoff_matrix_pd )"
   ]
  },
  {
   "cell_type": "markdown",
   "metadata": {},
   "source": [
    "It may be interesting, now, to analyze the different payoffs of player A in particular configurations. Then the game, at least for the moment is symmetric, and so we are allowed to draw the same conclusions also for player B."
   ]
  },
  {
   "cell_type": "markdown",
   "metadata": {},
   "source": [
    "Let's set $\\gamma=0$ and construct a discrete 4-dimensional grid for all the possible values of the parameters $\\theta$ and $\\phi$ for both players."
   ]
  },
  {
   "cell_type": "code",
   "execution_count": 57,
   "metadata": {},
   "outputs": [
    {
     "name": "stdout",
     "output_type": "stream",
     "text": [
      "262144\n"
     ]
    },
    {
     "ename": "TypeError",
     "evalue": "only length-1 arrays can be converted to Python scalars",
     "output_type": "error",
     "traceback": [
      "\u001b[0;31m---------------------------------------------------------------------------\u001b[0m",
      "\u001b[0;31mTypeError\u001b[0m                                 Traceback (most recent call last)",
      "\u001b[0;32m<ipython-input-57-60cca65e77f3>\u001b[0m in \u001b[0;36m<module>\u001b[0;34m\u001b[0m\n\u001b[1;32m     12\u001b[0m             \u001b[0;32mfor\u001b[0m \u001b[0ml\u001b[0m \u001b[0;32min\u001b[0m \u001b[0mphiB\u001b[0m\u001b[0;34m:\u001b[0m\u001b[0;34m\u001b[0m\u001b[0;34m\u001b[0m\u001b[0m\n\u001b[1;32m     13\u001b[0m                 \u001b[0mprint\u001b[0m\u001b[0;34m(\u001b[0m\u001b[0;36m32\u001b[0m\u001b[0;34m*\u001b[0m\u001b[0;36m16\u001b[0m\u001b[0;34m*\u001b[0m\u001b[0;36m32\u001b[0m\u001b[0;34m*\u001b[0m\u001b[0;36m16\u001b[0m\u001b[0;34m-\u001b[0m\u001b[0ms\u001b[0m\u001b[0;34m)\u001b[0m\u001b[0;34m\u001b[0m\u001b[0;34m\u001b[0m\u001b[0m\n\u001b[0;32m---> 14\u001b[0;31m                 \u001b[0msA\u001b[0m \u001b[0;34m=\u001b[0m \u001b[0mquantum_strategy\u001b[0m\u001b[0;34m(\u001b[0m\u001b[0mthetaA\u001b[0m\u001b[0;34m,\u001b[0m \u001b[0mphiA\u001b[0m\u001b[0;34m[\u001b[0m\u001b[0;36m0\u001b[0m\u001b[0;34m]\u001b[0m\u001b[0;34m)\u001b[0m\u001b[0;34m\u001b[0m\u001b[0;34m\u001b[0m\u001b[0m\n\u001b[0m\u001b[1;32m     15\u001b[0m                 \u001b[0msB\u001b[0m \u001b[0;34m=\u001b[0m \u001b[0mquantum_strategy\u001b[0m\u001b[0;34m(\u001b[0m\u001b[0mthetaB\u001b[0m\u001b[0;34m[\u001b[0m\u001b[0;36m0\u001b[0m\u001b[0;34m]\u001b[0m\u001b[0;34m,\u001b[0m \u001b[0mphiB\u001b[0m\u001b[0;34m[\u001b[0m\u001b[0;36m0\u001b[0m\u001b[0;34m]\u001b[0m\u001b[0;34m)\u001b[0m\u001b[0;34m\u001b[0m\u001b[0;34m\u001b[0m\u001b[0m\n\u001b[1;32m     16\u001b[0m                 \u001b[0mfs\u001b[0m \u001b[0;34m=\u001b[0m \u001b[0mcompute_final_state\u001b[0m\u001b[0;34m(\u001b[0m\u001b[0msA\u001b[0m\u001b[0;34m,\u001b[0m \u001b[0msB\u001b[0m\u001b[0;34m,\u001b[0m \u001b[0;36m0\u001b[0m\u001b[0;34m)\u001b[0m\u001b[0;34m\u001b[0m\u001b[0;34m\u001b[0m\u001b[0m\n",
      "\u001b[0;32m<ipython-input-2-7928f778e379>\u001b[0m in \u001b[0;36mquantum_strategy\u001b[0;34m(theta, phi)\u001b[0m\n\u001b[1;32m      2\u001b[0m \u001b[0;34m\u001b[0m\u001b[0m\n\u001b[1;32m      3\u001b[0m     \u001b[0mqs\u001b[0m \u001b[0;34m=\u001b[0m \u001b[0mnp\u001b[0m\u001b[0;34m.\u001b[0m\u001b[0mzeros\u001b[0m\u001b[0;34m(\u001b[0m\u001b[0;34m[\u001b[0m\u001b[0;36m2\u001b[0m\u001b[0;34m,\u001b[0m\u001b[0;36m2\u001b[0m\u001b[0;34m]\u001b[0m\u001b[0;34m,\u001b[0m \u001b[0mdtype\u001b[0m\u001b[0;34m=\u001b[0m\u001b[0mcomplex\u001b[0m\u001b[0;34m)\u001b[0m\u001b[0;34m\u001b[0m\u001b[0;34m\u001b[0m\u001b[0m\n\u001b[0;32m----> 4\u001b[0;31m     \u001b[0mqs\u001b[0m\u001b[0;34m[\u001b[0m\u001b[0;36m0\u001b[0m\u001b[0;34m,\u001b[0m\u001b[0;36m0\u001b[0m\u001b[0;34m]\u001b[0m \u001b[0;34m=\u001b[0m \u001b[0mcmath\u001b[0m\u001b[0;34m.\u001b[0m\u001b[0mexp\u001b[0m\u001b[0;34m(\u001b[0m\u001b[0;36m1j\u001b[0m\u001b[0;34m*\u001b[0m\u001b[0mphi\u001b[0m\u001b[0;34m)\u001b[0m\u001b[0;34m*\u001b[0m\u001b[0mnp\u001b[0m\u001b[0;34m.\u001b[0m\u001b[0mcos\u001b[0m\u001b[0;34m(\u001b[0m\u001b[0mtheta\u001b[0m\u001b[0;34m/\u001b[0m\u001b[0;36m2\u001b[0m\u001b[0;34m)\u001b[0m\u001b[0;34m\u001b[0m\u001b[0;34m\u001b[0m\u001b[0m\n\u001b[0m\u001b[1;32m      5\u001b[0m     \u001b[0mqs\u001b[0m\u001b[0;34m[\u001b[0m\u001b[0;36m0\u001b[0m\u001b[0;34m,\u001b[0m\u001b[0;36m1\u001b[0m\u001b[0;34m]\u001b[0m \u001b[0;34m=\u001b[0m \u001b[0mnp\u001b[0m\u001b[0;34m.\u001b[0m\u001b[0msin\u001b[0m\u001b[0;34m(\u001b[0m\u001b[0mtheta\u001b[0m\u001b[0;34m/\u001b[0m\u001b[0;36m2\u001b[0m\u001b[0;34m)\u001b[0m\u001b[0;34m\u001b[0m\u001b[0;34m\u001b[0m\u001b[0m\n\u001b[1;32m      6\u001b[0m     \u001b[0mqs\u001b[0m\u001b[0;34m[\u001b[0m\u001b[0;36m1\u001b[0m\u001b[0;34m,\u001b[0m\u001b[0;36m0\u001b[0m\u001b[0;34m]\u001b[0m \u001b[0;34m=\u001b[0m \u001b[0;34m-\u001b[0m\u001b[0mnp\u001b[0m\u001b[0;34m.\u001b[0m\u001b[0msin\u001b[0m\u001b[0;34m(\u001b[0m\u001b[0mtheta\u001b[0m\u001b[0;34m/\u001b[0m\u001b[0;36m2\u001b[0m\u001b[0;34m)\u001b[0m\u001b[0;34m\u001b[0m\u001b[0;34m\u001b[0m\u001b[0m\n",
      "\u001b[0;31mTypeError\u001b[0m: only length-1 arrays can be converted to Python scalars"
     ]
    }
   ],
   "source": [
    "thetaA = np.arange(0, np.pi, 0.1)\n",
    "phiA   = np.arange(0, np.pi/2, 0.1)\n",
    "thetaB = np.arange(0, np.pi, 0.1)\n",
    "phiB   = np.arange(0, np.pi/2, 0.1)\n",
    "\n",
    "grid = np.zeros(shape=(32*16*32*16,5))\n",
    "s = 0\n",
    "\n",
    "for i in thetaA:\n",
    "    for j in phiA:\n",
    "        for k in thetaB:\n",
    "            for l in phiB:\n",
    "                print(32*16*32*16-s)\n",
    "                sA = quantum_strategy(thetaA, phiA[0])\n",
    "                sB = quantum_strategy(thetaB[0], phiB[0])\n",
    "                fs = compute_final_state(sA, sB, 0)\n",
    "                utility = expected_payoffs(fs, payoff_matrix_pd)\n",
    "                grid[s] = [thetaA[0], phiA[0], thetaB[0], phiB[0], utility[0]]\n",
    "                s +=1\n",
    "                "
   ]
  },
  {
   "cell_type": "code",
   "execution_count": 56,
   "metadata": {},
   "outputs": [
    {
     "data": {
      "text/html": [
       "<div>\n",
       "<style scoped>\n",
       "    .dataframe tbody tr th:only-of-type {\n",
       "        vertical-align: middle;\n",
       "    }\n",
       "\n",
       "    .dataframe tbody tr th {\n",
       "        vertical-align: top;\n",
       "    }\n",
       "\n",
       "    .dataframe thead th {\n",
       "        text-align: right;\n",
       "    }\n",
       "</style>\n",
       "<table border=\"1\" class=\"dataframe\">\n",
       "  <thead>\n",
       "    <tr style=\"text-align: right;\">\n",
       "      <th></th>\n",
       "      <th>tA</th>\n",
       "      <th>pA</th>\n",
       "      <th>tB</th>\n",
       "      <th>pB</th>\n",
       "      <th>u</th>\n",
       "    </tr>\n",
       "  </thead>\n",
       "  <tbody>\n",
       "    <tr>\n",
       "      <th>0</th>\n",
       "      <td>0.0</td>\n",
       "      <td>0.0</td>\n",
       "      <td>0.0</td>\n",
       "      <td>0.0</td>\n",
       "      <td>3.0</td>\n",
       "    </tr>\n",
       "    <tr>\n",
       "      <th>1</th>\n",
       "      <td>0.0</td>\n",
       "      <td>0.0</td>\n",
       "      <td>0.0</td>\n",
       "      <td>0.0</td>\n",
       "      <td>3.0</td>\n",
       "    </tr>\n",
       "    <tr>\n",
       "      <th>2</th>\n",
       "      <td>0.0</td>\n",
       "      <td>0.0</td>\n",
       "      <td>0.0</td>\n",
       "      <td>0.0</td>\n",
       "      <td>3.0</td>\n",
       "    </tr>\n",
       "    <tr>\n",
       "      <th>3</th>\n",
       "      <td>0.0</td>\n",
       "      <td>0.0</td>\n",
       "      <td>0.0</td>\n",
       "      <td>0.0</td>\n",
       "      <td>3.0</td>\n",
       "    </tr>\n",
       "    <tr>\n",
       "      <th>4</th>\n",
       "      <td>0.0</td>\n",
       "      <td>0.0</td>\n",
       "      <td>0.0</td>\n",
       "      <td>0.0</td>\n",
       "      <td>3.0</td>\n",
       "    </tr>\n",
       "    <tr>\n",
       "      <th>...</th>\n",
       "      <td>...</td>\n",
       "      <td>...</td>\n",
       "      <td>...</td>\n",
       "      <td>...</td>\n",
       "      <td>...</td>\n",
       "    </tr>\n",
       "    <tr>\n",
       "      <th>262139</th>\n",
       "      <td>0.0</td>\n",
       "      <td>0.0</td>\n",
       "      <td>0.0</td>\n",
       "      <td>0.0</td>\n",
       "      <td>3.0</td>\n",
       "    </tr>\n",
       "    <tr>\n",
       "      <th>262140</th>\n",
       "      <td>0.0</td>\n",
       "      <td>0.0</td>\n",
       "      <td>0.0</td>\n",
       "      <td>0.0</td>\n",
       "      <td>3.0</td>\n",
       "    </tr>\n",
       "    <tr>\n",
       "      <th>262141</th>\n",
       "      <td>0.0</td>\n",
       "      <td>0.0</td>\n",
       "      <td>0.0</td>\n",
       "      <td>0.0</td>\n",
       "      <td>3.0</td>\n",
       "    </tr>\n",
       "    <tr>\n",
       "      <th>262142</th>\n",
       "      <td>0.0</td>\n",
       "      <td>0.0</td>\n",
       "      <td>0.0</td>\n",
       "      <td>0.0</td>\n",
       "      <td>3.0</td>\n",
       "    </tr>\n",
       "    <tr>\n",
       "      <th>262143</th>\n",
       "      <td>0.0</td>\n",
       "      <td>0.0</td>\n",
       "      <td>0.0</td>\n",
       "      <td>0.0</td>\n",
       "      <td>3.0</td>\n",
       "    </tr>\n",
       "  </tbody>\n",
       "</table>\n",
       "<p>262144 rows × 5 columns</p>\n",
       "</div>"
      ],
      "text/plain": [
       "         tA   pA   tB   pB    u\n",
       "0       0.0  0.0  0.0  0.0  3.0\n",
       "1       0.0  0.0  0.0  0.0  3.0\n",
       "2       0.0  0.0  0.0  0.0  3.0\n",
       "3       0.0  0.0  0.0  0.0  3.0\n",
       "4       0.0  0.0  0.0  0.0  3.0\n",
       "...     ...  ...  ...  ...  ...\n",
       "262139  0.0  0.0  0.0  0.0  3.0\n",
       "262140  0.0  0.0  0.0  0.0  3.0\n",
       "262141  0.0  0.0  0.0  0.0  3.0\n",
       "262142  0.0  0.0  0.0  0.0  3.0\n",
       "262143  0.0  0.0  0.0  0.0  3.0\n",
       "\n",
       "[262144 rows x 5 columns]"
      ]
     },
     "execution_count": 56,
     "metadata": {},
     "output_type": "execute_result"
    }
   ],
   "source": [
    "pd.DataFrame(grid, columns=[\"tA\",\"pA\",\"tB\",\"pB\",\"u\",])"
   ]
  },
  {
   "cell_type": "code",
   "execution_count": null,
   "metadata": {},
   "outputs": [],
   "source": []
  }
 ],
 "metadata": {
  "kernelspec": {
   "display_name": "Python 3",
   "language": "python",
   "name": "python3"
  },
  "language_info": {
   "codemirror_mode": {
    "name": "ipython",
    "version": 3
   },
   "file_extension": ".py",
   "mimetype": "text/x-python",
   "name": "python",
   "nbconvert_exporter": "python",
   "pygments_lexer": "ipython3",
   "version": "3.7.7"
  }
 },
 "nbformat": 4,
 "nbformat_minor": 4
}
